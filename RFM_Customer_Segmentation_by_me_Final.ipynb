{
  "nbformat": 4,
  "nbformat_minor": 0,
  "metadata": {
    "colab": {
      "name": "RFM_Customer_Segmentation_by_me_Final.ipynb",
      "version": "0.3.2",
      "provenance": [],
      "collapsed_sections": []
    },
    "language_info": {
      "codemirror_mode": {
        "name": "ipython",
        "version": 3
      },
      "file_extension": ".py",
      "mimetype": "text/x-python",
      "name": "python",
      "nbconvert_exporter": "python",
      "pygments_lexer": "ipython3",
      "version": "3.7.1"
    },
    "kernelspec": {
      "name": "python3",
      "display_name": "Python 3"
    },
    "accelerator": "GPU"
  },
  "cells": [
    {
      "cell_type": "markdown",
      "metadata": {
        "id": "mOtKK6IFLINV",
        "colab_type": "text"
      },
      "source": [
        "# RFM Analysis"
      ]
    },
    {
      "cell_type": "markdown",
      "metadata": {
        "id": "5fIrL4B3LINd",
        "colab_type": "text"
      },
      "source": [
        "### Domain : Retail"
      ]
    },
    {
      "cell_type": "markdown",
      "metadata": {
        "id": "exU1Gk5mLINo",
        "colab_type": "text"
      },
      "source": [
        "## Table of Contents\n",
        "\n",
        "#### 1. **Information**\n",
        "    - Reason for Choosing this Dataset ?\n",
        "    - Attribute Info\n",
        "    - Objective\n",
        "    - Questions Arising\n",
        "    \n",
        "#### 2. **Loading Dataset**\n",
        "    - Importing packages\n",
        "    - Reading Data\n",
        "    - Shape of data\n",
        "    - Dtype & Null values\n",
        "\n",
        "#### 3. **Initial Exploratory Data Analysis, Data Cleansing & Data Preprocessing**\n",
        "    - Descriptive Statistics\n",
        "    - EDA (Phase 1)\n",
        "    - Data Slicing\n",
        "    - Missing values examination and data preparation\n",
        "    - Feature Extraction\n",
        "    - EDA (Phase 2)\n",
        "\n",
        "#### 4. **RFM**\n",
        "    - Forming RFM Table\n",
        "    - Quantiles\n",
        "    - Assigning RFM Scores\n",
        "    - EDA (Phase 3)\n",
        "    - Correlation Plot\n",
        "\n",
        "#### 5. **Behaviour Analysis**\n",
        "    - Best Customers\n",
        "    - Big Spenders\n",
        "    - Loyal Customers\n",
        "    - Loyal Joes\n",
        "    - New Comers\n",
        "    - Lost Customers\n",
        "    - Almost Lost Customers\n",
        "    - Splurgers\n",
        "    - Deadbeats\n",
        "    - EDA (Phase 4)\n",
        "\n",
        "#### 6. **K-Means Clustering**\n",
        "    - Logarithmic Transformations\n",
        "    - Normalization\n",
        "    - EDA (Phase 5)\n",
        "    - K-Means Implementation\n",
        "    - Elbow Plot\n",
        "    - K-Means reinitiation based on elbow plot\n",
        "    - Clusters Impact on R, F and M\n",
        "    - 3D Scatter Plot\n",
        "\n",
        "#### 7. **Conclusion**"
      ]
    },
    {
      "cell_type": "markdown",
      "metadata": {
        "id": "u0yhH7tQLINv",
        "colab_type": "text"
      },
      "source": [
        "### Reason for Choosing this Dataset ?\n",
        "\n",
        "- The Reason behind choosing this model is my Personal Interest to explore various Domains out there.\n",
        "\n",
        "- RFM analysis is the key to understand Customer Behavior."
      ]
    },
    {
      "cell_type": "markdown",
      "metadata": {
        "id": "x3F2qiOcLIN7",
        "colab_type": "text"
      },
      "source": [
        "### RFM Customer segmentation :\n",
        "\n",
        "   - **RECENCY (R)**: Time since last purchase.</b>\n",
        "   - **FREQUENCY (F)**: Total number of purchases.\n",
        "   - **MONETARY VALUE (M)**: Total monetary value.<b>\n",
        "\n",
        "### Attribute Info :\n",
        "\n",
        "- InvoiceNo : Purchase Invoice\n",
        "- StockCode : Stock code derives a product identifier\n",
        "- Description : Product name / description\n",
        "- Quantity : Number of units customer opted for\n",
        "- InvoiceDate : Purchase date / Date of invoice generation.\n",
        "- UnitPrice : Price of Product\n",
        "- CustomerID : Unique Indentifier for Customer\n",
        "- Country : Country of Origin where Retail Outlet is Located\n",
        "\n",
        "### Objective :\n",
        "\n",
        "The goal of RFM Analysis is to segment/group customers based on their buying behavior. We need to understand the historical behavior of individual customers for each RFM factor. We then rank customers based on each individual RFM factor, and finally pull all the factors together to create RFM segments for targeted marketing. \n",
        "\n",
        "### Questions Arising :\n",
        "\n",
        "- Can you identify your best customers?\n",
        "- Do you know who your worst customers are?\n",
        "- Do you know which customers you just lost, and which ones you’re about to lose?\n",
        "- Can you identify loyal customers who buy often, but spend very little?\n",
        "- Can you target customers who are willing to spend the most at your store?"
      ]
    },
    {
      "cell_type": "markdown",
      "metadata": {
        "id": "uR-2Jr8XLIOF",
        "colab_type": "text"
      },
      "source": [
        "### Loading Dataset"
      ]
    },
    {
      "cell_type": "code",
      "metadata": {
        "colab_type": "code",
        "id": "7r81HeONlVjd",
        "colab": {}
      },
      "source": [
        "# Importing required Modules\n",
        "\n",
        "import numpy as np\n",
        "import pandas as pd\n",
        "import matplotlib.pyplot as plt\n",
        "import seaborn as sns"
      ],
      "execution_count": 0,
      "outputs": []
    },
    {
      "cell_type": "code",
      "metadata": {
        "colab_type": "code",
        "id": "3zTCdSfinXYd",
        "outputId": "e69b8a92-cedb-4047-c850-57bef99d6b23",
        "scrolled": true,
        "colab": {
          "base_uri": "https://localhost:8080/",
          "height": 206
        }
      },
      "source": [
        "#reading data\n",
        "\n",
        "df = pd.read_excel('retail.xlsx', header=0, parse_dates=True)\n",
        "df.head()"
      ],
      "execution_count": 2,
      "outputs": [
        {
          "output_type": "execute_result",
          "data": {
            "text/html": [
              "<div>\n",
              "<style scoped>\n",
              "    .dataframe tbody tr th:only-of-type {\n",
              "        vertical-align: middle;\n",
              "    }\n",
              "\n",
              "    .dataframe tbody tr th {\n",
              "        vertical-align: top;\n",
              "    }\n",
              "\n",
              "    .dataframe thead th {\n",
              "        text-align: right;\n",
              "    }\n",
              "</style>\n",
              "<table border=\"1\" class=\"dataframe\">\n",
              "  <thead>\n",
              "    <tr style=\"text-align: right;\">\n",
              "      <th></th>\n",
              "      <th>InvoiceNo</th>\n",
              "      <th>StockCode</th>\n",
              "      <th>Description</th>\n",
              "      <th>Quantity</th>\n",
              "      <th>InvoiceDate</th>\n",
              "      <th>UnitPrice</th>\n",
              "      <th>CustomerID</th>\n",
              "      <th>Country</th>\n",
              "    </tr>\n",
              "  </thead>\n",
              "  <tbody>\n",
              "    <tr>\n",
              "      <th>0</th>\n",
              "      <td>536365</td>\n",
              "      <td>85123A</td>\n",
              "      <td>WHITE HANGING HEART T-LIGHT HOLDER</td>\n",
              "      <td>6</td>\n",
              "      <td>2010-12-01 08:26:00</td>\n",
              "      <td>2.55</td>\n",
              "      <td>17850.0</td>\n",
              "      <td>United Kingdom</td>\n",
              "    </tr>\n",
              "    <tr>\n",
              "      <th>1</th>\n",
              "      <td>536365</td>\n",
              "      <td>71053</td>\n",
              "      <td>WHITE METAL LANTERN</td>\n",
              "      <td>6</td>\n",
              "      <td>2010-12-01 08:26:00</td>\n",
              "      <td>3.39</td>\n",
              "      <td>17850.0</td>\n",
              "      <td>United Kingdom</td>\n",
              "    </tr>\n",
              "    <tr>\n",
              "      <th>2</th>\n",
              "      <td>536365</td>\n",
              "      <td>84406B</td>\n",
              "      <td>CREAM CUPID HEARTS COAT HANGER</td>\n",
              "      <td>8</td>\n",
              "      <td>2010-12-01 08:26:00</td>\n",
              "      <td>2.75</td>\n",
              "      <td>17850.0</td>\n",
              "      <td>United Kingdom</td>\n",
              "    </tr>\n",
              "    <tr>\n",
              "      <th>3</th>\n",
              "      <td>536365</td>\n",
              "      <td>84029G</td>\n",
              "      <td>KNITTED UNION FLAG HOT WATER BOTTLE</td>\n",
              "      <td>6</td>\n",
              "      <td>2010-12-01 08:26:00</td>\n",
              "      <td>3.39</td>\n",
              "      <td>17850.0</td>\n",
              "      <td>United Kingdom</td>\n",
              "    </tr>\n",
              "    <tr>\n",
              "      <th>4</th>\n",
              "      <td>536365</td>\n",
              "      <td>84029E</td>\n",
              "      <td>RED WOOLLY HOTTIE WHITE HEART.</td>\n",
              "      <td>6</td>\n",
              "      <td>2010-12-01 08:26:00</td>\n",
              "      <td>3.39</td>\n",
              "      <td>17850.0</td>\n",
              "      <td>United Kingdom</td>\n",
              "    </tr>\n",
              "  </tbody>\n",
              "</table>\n",
              "</div>"
            ],
            "text/plain": [
              "  InvoiceNo StockCode  ... CustomerID         Country\n",
              "0    536365    85123A  ...    17850.0  United Kingdom\n",
              "1    536365     71053  ...    17850.0  United Kingdom\n",
              "2    536365    84406B  ...    17850.0  United Kingdom\n",
              "3    536365    84029G  ...    17850.0  United Kingdom\n",
              "4    536365    84029E  ...    17850.0  United Kingdom\n",
              "\n",
              "[5 rows x 8 columns]"
            ]
          },
          "metadata": {
            "tags": []
          },
          "execution_count": 2
        }
      ]
    },
    {
      "cell_type": "code",
      "metadata": {
        "colab_type": "code",
        "id": "-IeMtDyqnqui",
        "outputId": "3376b72f-b204-4946-b11a-93a182ffb7a3",
        "colab": {
          "base_uri": "https://localhost:8080/",
          "height": 257
        }
      },
      "source": [
        "#attribute dtype\n",
        "\n",
        "df.info()"
      ],
      "execution_count": 4,
      "outputs": [
        {
          "output_type": "stream",
          "text": [
            "<class 'pandas.core.frame.DataFrame'>\n",
            "RangeIndex: 541909 entries, 0 to 541908\n",
            "Data columns (total 8 columns):\n",
            "InvoiceNo      541909 non-null object\n",
            "StockCode      541909 non-null object\n",
            "Description    540455 non-null object\n",
            "Quantity       541909 non-null int64\n",
            "InvoiceDate    541909 non-null datetime64[ns]\n",
            "UnitPrice      541909 non-null float64\n",
            "CustomerID     406829 non-null float64\n",
            "Country        541909 non-null object\n",
            "dtypes: datetime64[ns](1), float64(2), int64(1), object(4)\n",
            "memory usage: 33.1+ MB\n"
          ],
          "name": "stdout"
        }
      ]
    },
    {
      "cell_type": "markdown",
      "metadata": {
        "id": "gXna1ADSLIPE",
        "colab_type": "text"
      },
      "source": [
        "- The above results shows us that features with respective data types : \n",
        "    - (1) x datetime64\n",
        "    - (2) x float64\n",
        "    - (1) x int64\n",
        "    - (4) x object"
      ]
    },
    {
      "cell_type": "code",
      "metadata": {
        "colab_type": "code",
        "id": "iT61VYJ8oWat",
        "outputId": "e83e0e49-2368-4269-caba-170d23987824",
        "colab": {
          "base_uri": "https://localhost:8080/",
          "height": 183
        }
      },
      "source": [
        "#Null value examination\n",
        "\n",
        "df.isnull().sum()"
      ],
      "execution_count": 5,
      "outputs": [
        {
          "output_type": "execute_result",
          "data": {
            "text/plain": [
              "InvoiceNo           0\n",
              "StockCode           0\n",
              "Description      1454\n",
              "Quantity            0\n",
              "InvoiceDate         0\n",
              "UnitPrice           0\n",
              "CustomerID     135080\n",
              "Country             0\n",
              "dtype: int64"
            ]
          },
          "metadata": {
            "tags": []
          },
          "execution_count": 5
        }
      ]
    },
    {
      "cell_type": "markdown",
      "metadata": {
        "id": "GbM4fq9VLIPb",
        "colab_type": "text"
      },
      "source": [
        "- The above null value analysis gives us sum of total null values in given feature.\n",
        "    - We can see that ***Description*** has 1454 NaN values.\n",
        "    - We can see that ***CustomerID*** has 135080 NaN values."
      ]
    },
    {
      "cell_type": "markdown",
      "metadata": {
        "id": "x8hYwrZELIPd",
        "colab_type": "text"
      },
      "source": [
        "### Data Processing, Data Cleansing and EDA"
      ]
    },
    {
      "cell_type": "code",
      "metadata": {
        "colab_type": "code",
        "id": "TjWKwz6loZCX",
        "outputId": "422dd09b-eff2-4f71-c787-6716b9155b8c",
        "colab": {
          "base_uri": "https://localhost:8080/",
          "height": 300
        }
      },
      "source": [
        "#descriptive stats\n",
        "\n",
        "df[['Quantity', 'UnitPrice']].describe()"
      ],
      "execution_count": 6,
      "outputs": [
        {
          "output_type": "execute_result",
          "data": {
            "text/html": [
              "<div>\n",
              "<style scoped>\n",
              "    .dataframe tbody tr th:only-of-type {\n",
              "        vertical-align: middle;\n",
              "    }\n",
              "\n",
              "    .dataframe tbody tr th {\n",
              "        vertical-align: top;\n",
              "    }\n",
              "\n",
              "    .dataframe thead th {\n",
              "        text-align: right;\n",
              "    }\n",
              "</style>\n",
              "<table border=\"1\" class=\"dataframe\">\n",
              "  <thead>\n",
              "    <tr style=\"text-align: right;\">\n",
              "      <th></th>\n",
              "      <th>Quantity</th>\n",
              "      <th>UnitPrice</th>\n",
              "    </tr>\n",
              "  </thead>\n",
              "  <tbody>\n",
              "    <tr>\n",
              "      <th>count</th>\n",
              "      <td>541909.000000</td>\n",
              "      <td>541909.000000</td>\n",
              "    </tr>\n",
              "    <tr>\n",
              "      <th>mean</th>\n",
              "      <td>9.552250</td>\n",
              "      <td>4.611114</td>\n",
              "    </tr>\n",
              "    <tr>\n",
              "      <th>std</th>\n",
              "      <td>218.081158</td>\n",
              "      <td>96.759853</td>\n",
              "    </tr>\n",
              "    <tr>\n",
              "      <th>min</th>\n",
              "      <td>-80995.000000</td>\n",
              "      <td>-11062.060000</td>\n",
              "    </tr>\n",
              "    <tr>\n",
              "      <th>25%</th>\n",
              "      <td>1.000000</td>\n",
              "      <td>1.250000</td>\n",
              "    </tr>\n",
              "    <tr>\n",
              "      <th>50%</th>\n",
              "      <td>3.000000</td>\n",
              "      <td>2.080000</td>\n",
              "    </tr>\n",
              "    <tr>\n",
              "      <th>75%</th>\n",
              "      <td>10.000000</td>\n",
              "      <td>4.130000</td>\n",
              "    </tr>\n",
              "    <tr>\n",
              "      <th>max</th>\n",
              "      <td>80995.000000</td>\n",
              "      <td>38970.000000</td>\n",
              "    </tr>\n",
              "  </tbody>\n",
              "</table>\n",
              "</div>"
            ],
            "text/plain": [
              "            Quantity      UnitPrice\n",
              "count  541909.000000  541909.000000\n",
              "mean        9.552250       4.611114\n",
              "std       218.081158      96.759853\n",
              "min    -80995.000000  -11062.060000\n",
              "25%         1.000000       1.250000\n",
              "50%         3.000000       2.080000\n",
              "75%        10.000000       4.130000\n",
              "max     80995.000000   38970.000000"
            ]
          },
          "metadata": {
            "tags": []
          },
          "execution_count": 6
        }
      ]
    },
    {
      "cell_type": "markdown",
      "metadata": {
        "colab_type": "text",
        "id": "dW-8aGBopmD-"
      },
      "source": [
        "- There are negative values in ***Quantity*** and ***UnitPrice*** which is quite bizzare. "
      ]
    },
    {
      "cell_type": "code",
      "metadata": {
        "colab_type": "code",
        "id": "vY0Ry7D6otsZ",
        "outputId": "cc2470ec-d55f-44ec-9c91-9b09d13bd68f",
        "colab": {
          "base_uri": "https://localhost:8080/",
          "height": 701
        }
      },
      "source": [
        "#country where retail store is located\n",
        "\n",
        "plt.figure(figsize=(15,7))\n",
        "sns.set_context('talk')\n",
        "sns.countplot(df.Country, palette='seismic')\n",
        "plt.title('Countries Involved')\n",
        "plt.xticks(rotation=90)"
      ],
      "execution_count": 7,
      "outputs": [
        {
          "output_type": "execute_result",
          "data": {
            "text/plain": [
              "(array([ 0,  1,  2,  3,  4,  5,  6,  7,  8,  9, 10, 11, 12, 13, 14, 15, 16,\n",
              "        17, 18, 19, 20, 21, 22, 23, 24, 25, 26, 27, 28, 29, 30, 31, 32, 33,\n",
              "        34, 35, 36, 37]), <a list of 38 Text xticklabel objects>)"
            ]
          },
          "metadata": {
            "tags": []
          },
          "execution_count": 7
        },
        {
          "output_type": "display_data",
          "data": {
            "image/png": "[encoded data removed]",
            "text/plain": [
              "<Figure size 1080x504 with 1 Axes>"
            ]
          },
          "metadata": {
            "tags": []
          }
        }
      ]
    },
    {
      "cell_type": "markdown",
      "metadata": {
        "id": "rl8xRQ8OLIQG",
        "colab_type": "text"
      },
      "source": [
        "- We got data of 38 countries which includes **North/South American, European, Middle East and other** countries.\n",
        "- Also, 90% of data is from **UK** so we'll conduct our RFM analysis on UK. Also, other reason is we cannot perform RFM analysis on multiple regions because as country changes, the behavior of customers , currency, lifestyle, products, etc changes too."
      ]
    },
    {
      "cell_type": "code",
      "metadata": {
        "colab_type": "code",
        "id": "YJuFsUB_p-mU",
        "outputId": "a7791408-11c8-48ca-9082-bb7877f1c6f8",
        "colab": {
          "base_uri": "https://localhost:8080/",
          "height": 206
        }
      },
      "source": [
        "#Slicing UK data\n",
        "\n",
        "uk = df[df.Country == 'United Kingdom']\n",
        "uk.head()"
      ],
      "execution_count": 8,
      "outputs": [
        {
          "output_type": "execute_result",
          "data": {
            "text/html": [
              "<div>\n",
              "<style scoped>\n",
              "    .dataframe tbody tr th:only-of-type {\n",
              "        vertical-align: middle;\n",
              "    }\n",
              "\n",
              "    .dataframe tbody tr th {\n",
              "        vertical-align: top;\n",
              "    }\n",
              "\n",
              "    .dataframe thead th {\n",
              "        text-align: right;\n",
              "    }\n",
              "</style>\n",
              "<table border=\"1\" class=\"dataframe\">\n",
              "  <thead>\n",
              "    <tr style=\"text-align: right;\">\n",
              "      <th></th>\n",
              "      <th>InvoiceNo</th>\n",
              "      <th>StockCode</th>\n",
              "      <th>Description</th>\n",
              "      <th>Quantity</th>\n",
              "      <th>InvoiceDate</th>\n",
              "      <th>UnitPrice</th>\n",
              "      <th>CustomerID</th>\n",
              "      <th>Country</th>\n",
              "    </tr>\n",
              "  </thead>\n",
              "  <tbody>\n",
              "    <tr>\n",
              "      <th>0</th>\n",
              "      <td>536365</td>\n",
              "      <td>85123A</td>\n",
              "      <td>WHITE HANGING HEART T-LIGHT HOLDER</td>\n",
              "      <td>6</td>\n",
              "      <td>2010-12-01 08:26:00</td>\n",
              "      <td>2.55</td>\n",
              "      <td>17850.0</td>\n",
              "      <td>United Kingdom</td>\n",
              "    </tr>\n",
              "    <tr>\n",
              "      <th>1</th>\n",
              "      <td>536365</td>\n",
              "      <td>71053</td>\n",
              "      <td>WHITE METAL LANTERN</td>\n",
              "      <td>6</td>\n",
              "      <td>2010-12-01 08:26:00</td>\n",
              "      <td>3.39</td>\n",
              "      <td>17850.0</td>\n",
              "      <td>United Kingdom</td>\n",
              "    </tr>\n",
              "    <tr>\n",
              "      <th>2</th>\n",
              "      <td>536365</td>\n",
              "      <td>84406B</td>\n",
              "      <td>CREAM CUPID HEARTS COAT HANGER</td>\n",
              "      <td>8</td>\n",
              "      <td>2010-12-01 08:26:00</td>\n",
              "      <td>2.75</td>\n",
              "      <td>17850.0</td>\n",
              "      <td>United Kingdom</td>\n",
              "    </tr>\n",
              "    <tr>\n",
              "      <th>3</th>\n",
              "      <td>536365</td>\n",
              "      <td>84029G</td>\n",
              "      <td>KNITTED UNION FLAG HOT WATER BOTTLE</td>\n",
              "      <td>6</td>\n",
              "      <td>2010-12-01 08:26:00</td>\n",
              "      <td>3.39</td>\n",
              "      <td>17850.0</td>\n",
              "      <td>United Kingdom</td>\n",
              "    </tr>\n",
              "    <tr>\n",
              "      <th>4</th>\n",
              "      <td>536365</td>\n",
              "      <td>84029E</td>\n",
              "      <td>RED WOOLLY HOTTIE WHITE HEART.</td>\n",
              "      <td>6</td>\n",
              "      <td>2010-12-01 08:26:00</td>\n",
              "      <td>3.39</td>\n",
              "      <td>17850.0</td>\n",
              "      <td>United Kingdom</td>\n",
              "    </tr>\n",
              "  </tbody>\n",
              "</table>\n",
              "</div>"
            ],
            "text/plain": [
              "  InvoiceNo StockCode  ... CustomerID         Country\n",
              "0    536365    85123A  ...    17850.0  United Kingdom\n",
              "1    536365     71053  ...    17850.0  United Kingdom\n",
              "2    536365    84406B  ...    17850.0  United Kingdom\n",
              "3    536365    84029G  ...    17850.0  United Kingdom\n",
              "4    536365    84029E  ...    17850.0  United Kingdom\n",
              "\n",
              "[5 rows x 8 columns]"
            ]
          },
          "metadata": {
            "tags": []
          },
          "execution_count": 8
        }
      ]
    },
    {
      "cell_type": "code",
      "metadata": {
        "colab_type": "code",
        "id": "vsp2uqsEq7Gu",
        "outputId": "93298cd3-a8ce-4a5b-8444-3705de12e13f",
        "scrolled": true,
        "colab": {
          "base_uri": "https://localhost:8080/",
          "height": 35
        }
      },
      "source": [
        "#UK data shape\n",
        "\n",
        "uk.shape"
      ],
      "execution_count": 9,
      "outputs": [
        {
          "output_type": "execute_result",
          "data": {
            "text/plain": [
              "(495478, 8)"
            ]
          },
          "metadata": {
            "tags": []
          },
          "execution_count": 9
        }
      ]
    },
    {
      "cell_type": "markdown",
      "metadata": {
        "id": "4ZbVTEa1LIQn",
        "colab_type": "text"
      },
      "source": [
        "- We got 495478 examples of **UK**"
      ]
    },
    {
      "cell_type": "code",
      "metadata": {
        "colab_type": "code",
        "id": "j5PCNyHkr3iq",
        "outputId": "1d50e31b-a41c-4cb8-8a3a-88919a096ef4",
        "colab": {
          "base_uri": "https://localhost:8080/",
          "height": 183
        }
      },
      "source": [
        "#checking UK data missing values\n",
        "\n",
        "uk.isnull().sum()"
      ],
      "execution_count": 10,
      "outputs": [
        {
          "output_type": "execute_result",
          "data": {
            "text/plain": [
              "InvoiceNo           0\n",
              "StockCode           0\n",
              "Description      1454\n",
              "Quantity            0\n",
              "InvoiceDate         0\n",
              "UnitPrice           0\n",
              "CustomerID     133600\n",
              "Country             0\n",
              "dtype: int64"
            ]
          },
          "metadata": {
            "tags": []
          },
          "execution_count": 10
        }
      ]
    },
    {
      "cell_type": "markdown",
      "metadata": {
        "id": "VYjc6KyzLIQ2",
        "colab_type": "text"
      },
      "source": [
        "- Missing values in UK data is :\n",
        "    - Description : 1454\n",
        "    - CustomerID : 133600"
      ]
    },
    {
      "cell_type": "code",
      "metadata": {
        "colab_type": "code",
        "id": "vWlFisEssFMb",
        "outputId": "074874c8-a1b8-4909-a4a9-865927007b59",
        "colab": {
          "base_uri": "https://localhost:8080/",
          "height": 183
        }
      },
      "source": [
        "#dropping null rows\n",
        "\n",
        "uk = uk[pd.notnull(uk['CustomerID'])]\n",
        "uk.isnull().sum()"
      ],
      "execution_count": 11,
      "outputs": [
        {
          "output_type": "execute_result",
          "data": {
            "text/plain": [
              "InvoiceNo      0\n",
              "StockCode      0\n",
              "Description    0\n",
              "Quantity       0\n",
              "InvoiceDate    0\n",
              "UnitPrice      0\n",
              "CustomerID     0\n",
              "Country        0\n",
              "dtype: int64"
            ]
          },
          "metadata": {
            "tags": []
          },
          "execution_count": 11
        }
      ]
    },
    {
      "cell_type": "markdown",
      "metadata": {
        "id": "Y3Vxqc0CLIRG",
        "colab_type": "text"
      },
      "source": [
        "  - **Why did we drop rows with null values ?**\n",
        "  - Ans.: Because we've missing values in **CustomerID**, we cannot replace missing values of ID columns because that is a false approach, it can bias a data towards particular group of customers , which can lead to false analysis. "
      ]
    },
    {
      "cell_type": "code",
      "metadata": {
        "colab_type": "code",
        "id": "1v-RQqswvVxn",
        "outputId": "72f4a085-78c2-4d7d-f3dc-f9bfa71223a8",
        "colab": {
          "base_uri": "https://localhost:8080/",
          "height": 35
        }
      },
      "source": [
        "#% negative values in UK dataset\n",
        "\n",
        "print (round(len(uk[uk['Quantity'] < 0])/len(uk) * 100),'% Negative Values')"
      ],
      "execution_count": 12,
      "outputs": [
        {
          "output_type": "stream",
          "text": [
            "2 % Negative Values\n"
          ],
          "name": "stdout"
        }
      ]
    },
    {
      "cell_type": "markdown",
      "metadata": {
        "id": "3xHEb04RLIRV",
        "colab_type": "text"
      },
      "source": [
        "- We got **2% of Negative values** in the UK dataset."
      ]
    },
    {
      "cell_type": "code",
      "metadata": {
        "colab_type": "code",
        "id": "mRFzrgI9vqM0",
        "outputId": "8ec35513-0d8c-49a9-91bc-2b7bce67dee9",
        "colab": {
          "base_uri": "https://localhost:8080/",
          "height": 300
        }
      },
      "source": [
        "#slicing data \n",
        "#descriptive statistics of quanties above 0\n",
        "\n",
        "uk = uk[uk.Quantity > 0]\n",
        "uk[['Quantity', 'UnitPrice']].describe()"
      ],
      "execution_count": 13,
      "outputs": [
        {
          "output_type": "execute_result",
          "data": {
            "text/html": [
              "<div>\n",
              "<style scoped>\n",
              "    .dataframe tbody tr th:only-of-type {\n",
              "        vertical-align: middle;\n",
              "    }\n",
              "\n",
              "    .dataframe tbody tr th {\n",
              "        vertical-align: top;\n",
              "    }\n",
              "\n",
              "    .dataframe thead th {\n",
              "        text-align: right;\n",
              "    }\n",
              "</style>\n",
              "<table border=\"1\" class=\"dataframe\">\n",
              "  <thead>\n",
              "    <tr style=\"text-align: right;\">\n",
              "      <th></th>\n",
              "      <th>Quantity</th>\n",
              "      <th>UnitPrice</th>\n",
              "    </tr>\n",
              "  </thead>\n",
              "  <tbody>\n",
              "    <tr>\n",
              "      <th>count</th>\n",
              "      <td>354345.000000</td>\n",
              "      <td>354345.000000</td>\n",
              "    </tr>\n",
              "    <tr>\n",
              "      <th>mean</th>\n",
              "      <td>12.048913</td>\n",
              "      <td>2.963793</td>\n",
              "    </tr>\n",
              "    <tr>\n",
              "      <th>std</th>\n",
              "      <td>190.428127</td>\n",
              "      <td>17.862067</td>\n",
              "    </tr>\n",
              "    <tr>\n",
              "      <th>min</th>\n",
              "      <td>1.000000</td>\n",
              "      <td>0.000000</td>\n",
              "    </tr>\n",
              "    <tr>\n",
              "      <th>25%</th>\n",
              "      <td>2.000000</td>\n",
              "      <td>1.250000</td>\n",
              "    </tr>\n",
              "    <tr>\n",
              "      <th>50%</th>\n",
              "      <td>4.000000</td>\n",
              "      <td>1.950000</td>\n",
              "    </tr>\n",
              "    <tr>\n",
              "      <th>75%</th>\n",
              "      <td>12.000000</td>\n",
              "      <td>3.750000</td>\n",
              "    </tr>\n",
              "    <tr>\n",
              "      <th>max</th>\n",
              "      <td>80995.000000</td>\n",
              "      <td>8142.750000</td>\n",
              "    </tr>\n",
              "  </tbody>\n",
              "</table>\n",
              "</div>"
            ],
            "text/plain": [
              "            Quantity      UnitPrice\n",
              "count  354345.000000  354345.000000\n",
              "mean       12.048913       2.963793\n",
              "std       190.428127      17.862067\n",
              "min         1.000000       0.000000\n",
              "25%         2.000000       1.250000\n",
              "50%         4.000000       1.950000\n",
              "75%        12.000000       3.750000\n",
              "max     80995.000000    8142.750000"
            ]
          },
          "metadata": {
            "tags": []
          },
          "execution_count": 13
        }
      ]
    },
    {
      "cell_type": "markdown",
      "metadata": {
        "id": "6hEdgERFLIRl",
        "colab_type": "text"
      },
      "source": [
        "- Let us only consider values which are Positive and focus on further analysis.\n",
        "- Above descriptive statistics tells us that Min. & Max. Quantity is 1 & 80995 while UnitPrice has Min. & Max. 0 & 8142.75.\n",
        "- We can observe that some customer has checked out with 80995 units of particular/single product but it is not necessary that it is more frequent customer because, let us assume that there was a stock clearance sale ran by store and the customer got to know it from advertises or marketing, which drove his attention towards our store and he opted out for the required product in bulk and as a result we could get such huge variation in data."
      ]
    },
    {
      "cell_type": "code",
      "metadata": {
        "colab_type": "code",
        "id": "MAvi5oZmy_Vi",
        "outputId": "4ff66614-adc2-4461-cbea-5468b97901bc",
        "colab": {
          "base_uri": "https://localhost:8080/",
          "height": 35
        }
      },
      "source": [
        "uk.shape"
      ],
      "execution_count": 14,
      "outputs": [
        {
          "output_type": "execute_result",
          "data": {
            "text/plain": [
              "(354345, 8)"
            ]
          },
          "metadata": {
            "tags": []
          },
          "execution_count": 14
        }
      ]
    },
    {
      "cell_type": "markdown",
      "metadata": {
        "id": "s4_j0RFGLIR1",
        "colab_type": "text"
      },
      "source": [
        "- In UK data (after cleaning) , we got 354345 examples for our RFM analysis."
      ]
    },
    {
      "cell_type": "code",
      "metadata": {
        "colab_type": "code",
        "id": "_4l4BoZazO2_",
        "colab": {}
      },
      "source": [
        "#extracting new column\n",
        "\n",
        "uk['Total_price'] = uk.Quantity * uk.UnitPrice"
      ],
      "execution_count": 0,
      "outputs": []
    },
    {
      "cell_type": "markdown",
      "metadata": {
        "id": "vv0ehbsDLISH",
        "colab_type": "text"
      },
      "source": [
        "- We can do feature enginnering by taking product of No. of Quantities and Unit Price which will further helpful for Monetary Analysis."
      ]
    },
    {
      "cell_type": "code",
      "metadata": {
        "colab_type": "code",
        "id": "zaGezk9G48Cl",
        "outputId": "51736b30-06aa-4b93-c6f8-b1c28ccff71b",
        "colab": {
          "base_uri": "https://localhost:8080/",
          "height": 35
        }
      },
      "source": [
        "#min and max invoice date\n",
        "\n",
        "df['InvoiceDate'].min(), df['InvoiceDate'].max()"
      ],
      "execution_count": 16,
      "outputs": [
        {
          "output_type": "execute_result",
          "data": {
            "text/plain": [
              "(Timestamp('2010-12-01 08:26:00'), Timestamp('2011-12-09 12:50:00'))"
            ]
          },
          "metadata": {
            "tags": []
          },
          "execution_count": 16
        }
      ]
    },
    {
      "cell_type": "markdown",
      "metadata": {
        "colab_type": "text",
        "id": "Vid3PgAj5TAJ"
      },
      "source": [
        "- We have data ranging from **12/2010** to **12/2011** which is 1 year of information we got under roof."
      ]
    },
    {
      "cell_type": "code",
      "metadata": {
        "colab_type": "code",
        "id": "9X7354LC5Nr8",
        "outputId": "baa8a419-c448-4e00-eaa5-547916591bb6",
        "colab": {
          "base_uri": "https://localhost:8080/",
          "height": 35
        }
      },
      "source": [
        "#next day = Last invoice date + 1 day\n",
        "\n",
        "import datetime as dt\n",
        "\n",
        "next_day = df['InvoiceDate'].max() + dt.timedelta(1)\n",
        "next_day"
      ],
      "execution_count": 17,
      "outputs": [
        {
          "output_type": "execute_result",
          "data": {
            "text/plain": [
              "Timestamp('2011-12-10 12:50:00')"
            ]
          },
          "metadata": {
            "tags": []
          },
          "execution_count": 17
        }
      ]
    },
    {
      "cell_type": "markdown",
      "metadata": {
        "id": "AFUGvBbXLISX",
        "colab_type": "text"
      },
      "source": [
        "- We need to add a day to last date in out data.\n",
        "- To understand this we need to revisit the defination of **Recency (R) , i.e, Time since last purchase**. We calculate Recency by subtracting current date with recorded date. The lesser the difference in days (lesser Gap), the recent was the customer found checking-in to our store. The bigger the difference, the larger is the gap since he last visited.\n",
        "- Now, if we consider to subtract today's date with the customers who visited today, that will give us 0. Neutral value won't add any value to our Recency (R) analysis so we must add a day to current date."
      ]
    },
    {
      "cell_type": "markdown",
      "metadata": {
        "id": "ymaKt7FoLISZ",
        "colab_type": "text"
      },
      "source": [
        "### No. of Sales per day and per hour in a day"
      ]
    },
    {
      "cell_type": "code",
      "metadata": {
        "colab_type": "code",
        "id": "z0qIbGS656Xa",
        "outputId": "fe7cc0c7-afef-49e2-ff2a-cd959609525f",
        "colab": {
          "base_uri": "https://localhost:8080/",
          "height": 632
        }
      },
      "source": [
        "#EDA\n",
        "\n",
        "weekday = ['Monday', 'Tuesday', 'Wednesday', 'Thursday', 'Friday', 'Sunday']\n",
        "plt.subplots_adjust(wspace=0.2, hspace=1)\n",
        "plt.figure(figsize=(20,8))\n",
        "\n",
        "plt.subplot(1,2,1)\n",
        "sns.countplot(sorted(uk['InvoiceDate'].dt.weekday_name, key=weekday.index), palette='rainbow')\n",
        "plt.xticks(rotation=90)\n",
        "plt.title('Sale Count by Week day')\n",
        "\n",
        "plt.subplot(1,2,2)\n",
        "sns.countplot(uk['InvoiceDate'].dt.hour, palette='icefire')\n",
        "plt.xticks(rotation=90)\n",
        "plt.xlabel('Hour')\n",
        "plt.title('Sale Count per Hour')"
      ],
      "execution_count": 18,
      "outputs": [
        {
          "output_type": "execute_result",
          "data": {
            "text/plain": [
              "Text(0.5, 1.0, 'Sale Count per Hour')"
            ]
          },
          "metadata": {
            "tags": []
          },
          "execution_count": 18
        },
        {
          "output_type": "display_data",
          "data": {
            "text/plain": [
              "<Figure size 432x288 with 0 Axes>"
            ]
          },
          "metadata": {
            "tags": []
          }
        },
        {
          "output_type": "display_data",
          "data": {
            "image/png": "[encoded data removed]",
            "text/plain": [
              "<Figure size 1440x576 with 2 Axes>"
            ]
          },
          "metadata": {
            "tags": []
          }
        }
      ]
    },
    {
      "cell_type": "markdown",
      "metadata": {
        "colab_type": "text",
        "id": "dfi_tH2h-1iV"
      },
      "source": [
        "- From above plot we can observe that most sale happens mostly on **Thursday and Wednesday**.\n",
        "- While in single day, most sales occur tend to occur between **11.00 to 15.00 hours.**"
      ]
    },
    {
      "cell_type": "markdown",
      "metadata": {
        "id": "skCKWD9gLISo",
        "colab_type": "text"
      },
      "source": [
        "### Percentage of Repeated VS One-Time Consumers"
      ]
    },
    {
      "cell_type": "code",
      "metadata": {
        "colab_type": "code",
        "id": "RcSlYxtN9MW3",
        "outputId": "415ff69f-df19-46b5-e9e9-3d5263018963",
        "colab": {
          "base_uri": "https://localhost:8080/",
          "height": 458
        }
      },
      "source": [
        "#one time visitor vs repeated visitor\n",
        "\n",
        "plt.figure(figsize=(7,7))\n",
        "\n",
        "repeat_vs_one_time = np.where(uk.CustomerID.value_counts()>1, 'repeat', 'one_time')\n",
        "repeat_vs_one_time = pd.DataFrame(repeat_vs_one_time)\n",
        "repeat_vs_one_time = repeat_vs_one_time[repeat_vs_one_time.columns[0]].value_counts()\n",
        "repeat_vs_one_time.plot(kind='pie', autopct='%1.1f%%', colormap='BrBG_r')\n",
        "plt.title('Reapeat VS One-Time Vistors')"
      ],
      "execution_count": 24,
      "outputs": [
        {
          "output_type": "execute_result",
          "data": {
            "text/plain": [
              "Text(0.5, 1.0, 'Reapeat VS One-Time Vistors')"
            ]
          },
          "metadata": {
            "tags": []
          },
          "execution_count": 24
        },
        {
          "output_type": "display_data",
          "data": {
            "image/png": "[encoded data removed]",
            "text/plain": [
              "<Figure size 504x504 with 1 Axes>"
            ]
          },
          "metadata": {
            "tags": []
          }
        }
      ]
    },
    {
      "cell_type": "markdown",
      "metadata": {
        "colab_type": "text",
        "id": "MuHwGSB_K-0i"
      },
      "source": [
        "- The Percentage count of repeated customer is 98.2 while one-time customers are 1.8%"
      ]
    },
    {
      "cell_type": "markdown",
      "metadata": {
        "id": "MUc2nwVPLISy",
        "colab_type": "text"
      },
      "source": [
        "### Most & Least purchased products"
      ]
    },
    {
      "cell_type": "code",
      "metadata": {
        "colab_type": "code",
        "id": "8oocVJjiK-T-",
        "outputId": "f4b42123-0e0f-4718-c033-93c817c62219",
        "colab": {
          "base_uri": "https://localhost:8080/",
          "height": 239
        }
      },
      "source": [
        "#most purchased products\n",
        "\n",
        "products = uk.groupby(['Description'])['Quantity'].sum().sort_values(ascending=False)\n",
        "products.head(10)"
      ],
      "execution_count": 25,
      "outputs": [
        {
          "output_type": "execute_result",
          "data": {
            "text/plain": [
              "Description\n",
              "PAPER CRAFT , LITTLE BIRDIE           80995\n",
              "MEDIUM CERAMIC TOP STORAGE JAR        76919\n",
              "WORLD WAR 2 GLIDERS ASSTD DESIGNS     49182\n",
              "JUMBO BAG RED RETROSPOT               41981\n",
              "WHITE HANGING HEART T-LIGHT HOLDER    34648\n",
              "ASSORTED COLOUR BIRD ORNAMENT         32727\n",
              "POPCORN HOLDER                        28935\n",
              "PACK OF 12 LONDON TISSUES             24337\n",
              "BROCADE RING PURSE                    22711\n",
              "PACK OF 72 RETROSPOT CAKE CASES       22465\n",
              "Name: Quantity, dtype: int64"
            ]
          },
          "metadata": {
            "tags": []
          },
          "execution_count": 25
        }
      ]
    },
    {
      "cell_type": "markdown",
      "metadata": {
        "id": "b9NM8IIELIS6",
        "colab_type": "text"
      },
      "source": [
        "- We can see that **PAPER CRAFT , LITTLE BIRDIE, MEDIUM CERAMIC TOP STORAGE JAR, WORLD WAR 2 GLIDERS ASSTD DESIGNS, etc** are most purchased. \n",
        "\n",
        "- **Note** that most purchased product is not the most common product , remember we talked above about **Stock Clearance Sale** where a consumer purchases a sale/discounted product in bulk. These bulk purchase can fall into our **\"Most Purchased Product\"** category."
      ]
    },
    {
      "cell_type": "code",
      "metadata": {
        "colab_type": "code",
        "id": "M97UjX1BIAcA",
        "outputId": "3e58bc76-936a-46ba-ff9a-589bb41323f5",
        "colab": {
          "base_uri": "https://localhost:8080/",
          "height": 239
        }
      },
      "source": [
        "#least purchased products\n",
        "products.tail(10)"
      ],
      "execution_count": 26,
      "outputs": [
        {
          "output_type": "execute_result",
          "data": {
            "text/plain": [
              "Description\n",
              "POTTING SHED SOW 'N' GROW SET          1\n",
              "PURPLE CHUNKY GLASS+BEAD NECKLACE      1\n",
              "PURPLE FRANGIPANI HAIRCLIP             1\n",
              "GREEN PENDANT TRIPLE SHELL NECKLACE    1\n",
              "RUBY GLASS CLUSTER EARRINGS            1\n",
              "CAPIZ CHANDELIER                       1\n",
              "AMBER BERTIE GLASS BEAD BAG CHARM      1\n",
              "SCALLOP SHELL SOAP DISH                1\n",
              "SET 10 CARDS HANGING BAUBLES 17080     1\n",
              "CAKE STAND LACE WHITE                  1\n",
              "Name: Quantity, dtype: int64"
            ]
          },
          "metadata": {
            "tags": []
          },
          "execution_count": 26
        }
      ]
    },
    {
      "cell_type": "markdown",
      "metadata": {
        "id": "f8UNW-fCLITD",
        "colab_type": "text"
      },
      "source": [
        "- Above are some least purchased products"
      ]
    },
    {
      "cell_type": "markdown",
      "metadata": {
        "colab_type": "text",
        "id": "64x_sszAPvZS"
      },
      "source": [
        "### RFM"
      ]
    },
    {
      "cell_type": "code",
      "metadata": {
        "colab_type": "code",
        "id": "U_KI1kQzj7Y2",
        "outputId": "4edc18c2-6cf0-4ad3-d209-5aa44e7d9dea",
        "colab": {
          "base_uri": "https://localhost:8080/",
          "height": 206
        }
      },
      "source": [
        "#Let us look at data again\n",
        "\n",
        "uk.head()"
      ],
      "execution_count": 27,
      "outputs": [
        {
          "output_type": "execute_result",
          "data": {
            "text/html": [
              "<div>\n",
              "<style scoped>\n",
              "    .dataframe tbody tr th:only-of-type {\n",
              "        vertical-align: middle;\n",
              "    }\n",
              "\n",
              "    .dataframe tbody tr th {\n",
              "        vertical-align: top;\n",
              "    }\n",
              "\n",
              "    .dataframe thead th {\n",
              "        text-align: right;\n",
              "    }\n",
              "</style>\n",
              "<table border=\"1\" class=\"dataframe\">\n",
              "  <thead>\n",
              "    <tr style=\"text-align: right;\">\n",
              "      <th></th>\n",
              "      <th>InvoiceNo</th>\n",
              "      <th>StockCode</th>\n",
              "      <th>Description</th>\n",
              "      <th>Quantity</th>\n",
              "      <th>InvoiceDate</th>\n",
              "      <th>UnitPrice</th>\n",
              "      <th>CustomerID</th>\n",
              "      <th>Country</th>\n",
              "      <th>Total_price</th>\n",
              "    </tr>\n",
              "  </thead>\n",
              "  <tbody>\n",
              "    <tr>\n",
              "      <th>0</th>\n",
              "      <td>536365</td>\n",
              "      <td>85123A</td>\n",
              "      <td>WHITE HANGING HEART T-LIGHT HOLDER</td>\n",
              "      <td>6</td>\n",
              "      <td>2010-12-01 08:26:00</td>\n",
              "      <td>2.55</td>\n",
              "      <td>17850.0</td>\n",
              "      <td>United Kingdom</td>\n",
              "      <td>15.30</td>\n",
              "    </tr>\n",
              "    <tr>\n",
              "      <th>1</th>\n",
              "      <td>536365</td>\n",
              "      <td>71053</td>\n",
              "      <td>WHITE METAL LANTERN</td>\n",
              "      <td>6</td>\n",
              "      <td>2010-12-01 08:26:00</td>\n",
              "      <td>3.39</td>\n",
              "      <td>17850.0</td>\n",
              "      <td>United Kingdom</td>\n",
              "      <td>20.34</td>\n",
              "    </tr>\n",
              "    <tr>\n",
              "      <th>2</th>\n",
              "      <td>536365</td>\n",
              "      <td>84406B</td>\n",
              "      <td>CREAM CUPID HEARTS COAT HANGER</td>\n",
              "      <td>8</td>\n",
              "      <td>2010-12-01 08:26:00</td>\n",
              "      <td>2.75</td>\n",
              "      <td>17850.0</td>\n",
              "      <td>United Kingdom</td>\n",
              "      <td>22.00</td>\n",
              "    </tr>\n",
              "    <tr>\n",
              "      <th>3</th>\n",
              "      <td>536365</td>\n",
              "      <td>84029G</td>\n",
              "      <td>KNITTED UNION FLAG HOT WATER BOTTLE</td>\n",
              "      <td>6</td>\n",
              "      <td>2010-12-01 08:26:00</td>\n",
              "      <td>3.39</td>\n",
              "      <td>17850.0</td>\n",
              "      <td>United Kingdom</td>\n",
              "      <td>20.34</td>\n",
              "    </tr>\n",
              "    <tr>\n",
              "      <th>4</th>\n",
              "      <td>536365</td>\n",
              "      <td>84029E</td>\n",
              "      <td>RED WOOLLY HOTTIE WHITE HEART.</td>\n",
              "      <td>6</td>\n",
              "      <td>2010-12-01 08:26:00</td>\n",
              "      <td>3.39</td>\n",
              "      <td>17850.0</td>\n",
              "      <td>United Kingdom</td>\n",
              "      <td>20.34</td>\n",
              "    </tr>\n",
              "  </tbody>\n",
              "</table>\n",
              "</div>"
            ],
            "text/plain": [
              "  InvoiceNo StockCode  ...         Country  Total_price\n",
              "0    536365    85123A  ...  United Kingdom        15.30\n",
              "1    536365     71053  ...  United Kingdom        20.34\n",
              "2    536365    84406B  ...  United Kingdom        22.00\n",
              "3    536365    84029G  ...  United Kingdom        20.34\n",
              "4    536365    84029E  ...  United Kingdom        20.34\n",
              "\n",
              "[5 rows x 9 columns]"
            ]
          },
          "metadata": {
            "tags": []
          },
          "execution_count": 27
        }
      ]
    },
    {
      "cell_type": "code",
      "metadata": {
        "colab_type": "code",
        "id": "ZiPH0LI2PjQ_",
        "colab": {}
      },
      "source": [
        "# Converting DateTime to proper format\n",
        "\n",
        "uk['InvoiceDate'] = pd.to_datetime(df['InvoiceDate'])"
      ],
      "execution_count": 0,
      "outputs": []
    },
    {
      "cell_type": "markdown",
      "metadata": {
        "id": "UVP0TKW1LITY",
        "colab_type": "text"
      },
      "source": [
        "- Let's create RFM Table now , for that we'll group our data on **CustomerID** and aggregrate the data such that\n",
        "    - Subtracting today's date with customer's recorded date will give us **Recency** of a Customer.\n",
        "    - Total number of purchases will give us **Frequency**\n",
        "    - And Summing up all the amount spent will give us **Monetary** "
      ]
    },
    {
      "cell_type": "code",
      "metadata": {
        "colab_type": "code",
        "id": "Q6CeIZsbS_gY",
        "colab": {}
      },
      "source": [
        "#forming a RFM table\n",
        "\n",
        "rfm_table = uk.groupby('CustomerID').agg({'InvoiceDate' : lambda x: (next_day - x.max()).days,\n",
        "                                          'InvoiceNo' : lambda x: len(x),\n",
        "                                          'Total_price' : lambda x: x.sum()\n",
        "                                         })"
      ],
      "execution_count": 0,
      "outputs": []
    },
    {
      "cell_type": "code",
      "metadata": {
        "colab_type": "code",
        "id": "NR_NusNKwuQp",
        "outputId": "ffa4a113-3ef5-4551-bc95-79a985ddadc7",
        "scrolled": true,
        "colab": {
          "base_uri": "https://localhost:8080/",
          "height": 165
        }
      },
      "source": [
        "rfm_table.info()"
      ],
      "execution_count": 30,
      "outputs": [
        {
          "output_type": "stream",
          "text": [
            "<class 'pandas.core.frame.DataFrame'>\n",
            "Float64Index: 3921 entries, 12346.0 to 18287.0\n",
            "Data columns (total 3 columns):\n",
            "InvoiceDate    3921 non-null int64\n",
            "InvoiceNo      3921 non-null int64\n",
            "Total_price    3921 non-null float64\n",
            "dtypes: float64(1), int64(2)\n",
            "memory usage: 122.5 KB\n"
          ],
          "name": "stdout"
        }
      ]
    },
    {
      "cell_type": "markdown",
      "metadata": {
        "id": "Bi6ZxVozLITo",
        "colab_type": "text"
      },
      "source": [
        "- By grouping our data on **CustomerID** we an see that we get **3921 unique customers** who visited our retail unit over the period of time."
      ]
    },
    {
      "cell_type": "code",
      "metadata": {
        "colab_type": "code",
        "id": "WlpAewb_wwTw",
        "colab": {}
      },
      "source": [
        "# Changing our column names to R, F & M.\n",
        "\n",
        "rfm_table.rename(columns={'InvoiceDate' : 'Recency',\n",
        "                          'InvoiceNo' : 'Frequency',\n",
        "                          'Total_price' : 'Monetary'}, inplace=True)"
      ],
      "execution_count": 0,
      "outputs": []
    },
    {
      "cell_type": "code",
      "metadata": {
        "colab_type": "code",
        "id": "d9uwAc6exV0U",
        "outputId": "797076d3-bc52-4585-b4ad-9776d462f3f1",
        "colab": {
          "base_uri": "https://localhost:8080/",
          "height": 238
        }
      },
      "source": [
        "rfm_table.head()"
      ],
      "execution_count": 32,
      "outputs": [
        {
          "output_type": "execute_result",
          "data": {
            "text/html": [
              "<div>\n",
              "<style scoped>\n",
              "    .dataframe tbody tr th:only-of-type {\n",
              "        vertical-align: middle;\n",
              "    }\n",
              "\n",
              "    .dataframe tbody tr th {\n",
              "        vertical-align: top;\n",
              "    }\n",
              "\n",
              "    .dataframe thead th {\n",
              "        text-align: right;\n",
              "    }\n",
              "</style>\n",
              "<table border=\"1\" class=\"dataframe\">\n",
              "  <thead>\n",
              "    <tr style=\"text-align: right;\">\n",
              "      <th></th>\n",
              "      <th>Recency</th>\n",
              "      <th>Frequency</th>\n",
              "      <th>Monetary</th>\n",
              "    </tr>\n",
              "    <tr>\n",
              "      <th>CustomerID</th>\n",
              "      <th></th>\n",
              "      <th></th>\n",
              "      <th></th>\n",
              "    </tr>\n",
              "  </thead>\n",
              "  <tbody>\n",
              "    <tr>\n",
              "      <th>12346.0</th>\n",
              "      <td>326</td>\n",
              "      <td>1</td>\n",
              "      <td>77183.60</td>\n",
              "    </tr>\n",
              "    <tr>\n",
              "      <th>12747.0</th>\n",
              "      <td>2</td>\n",
              "      <td>103</td>\n",
              "      <td>4196.01</td>\n",
              "    </tr>\n",
              "    <tr>\n",
              "      <th>12748.0</th>\n",
              "      <td>1</td>\n",
              "      <td>4596</td>\n",
              "      <td>33719.73</td>\n",
              "    </tr>\n",
              "    <tr>\n",
              "      <th>12749.0</th>\n",
              "      <td>4</td>\n",
              "      <td>199</td>\n",
              "      <td>4090.88</td>\n",
              "    </tr>\n",
              "    <tr>\n",
              "      <th>12820.0</th>\n",
              "      <td>3</td>\n",
              "      <td>59</td>\n",
              "      <td>942.34</td>\n",
              "    </tr>\n",
              "  </tbody>\n",
              "</table>\n",
              "</div>"
            ],
            "text/plain": [
              "            Recency  Frequency  Monetary\n",
              "CustomerID                              \n",
              "12346.0         326          1  77183.60\n",
              "12747.0           2        103   4196.01\n",
              "12748.0           1       4596  33719.73\n",
              "12749.0           4        199   4090.88\n",
              "12820.0           3         59    942.34"
            ]
          },
          "metadata": {
            "tags": []
          },
          "execution_count": 32
        }
      ]
    },
    {
      "cell_type": "markdown",
      "metadata": {
        "id": "oddt4jXlLIT5",
        "colab_type": "text"
      },
      "source": [
        "**For CustomerID 12346.0 :**\n",
        "\n",
        "   - It's evident that Customer has visted our retail unit 326 days ago ,i.e, almost a **year** ago.\n",
        "   - We can note that the Customer has generated invoice only **once in those 326 days.**\n",
        "   - But, Monetary value is **77183.60**\n",
        "   \n",
        "\n",
        "**For CustomerID 12347.0 :**\n",
        "\n",
        "   - It's evident that this particular Customer has visted our retail unit couple of days ago.\n",
        "   - We can also note that the Customer has generated invoice **103 times**.\n",
        "   - And, Monetary value is **4196.01**"
      ]
    },
    {
      "cell_type": "code",
      "metadata": {
        "colab_type": "code",
        "id": "bTni5UZUftSm",
        "outputId": "936a6e47-ebbc-4f25-936b-7ba3509b999e",
        "colab": {
          "base_uri": "https://localhost:8080/",
          "height": 81
        }
      },
      "source": [
        "#Let us look at what customer 12346 purchased\n",
        "\n",
        "uk[uk['CustomerID'] == rfm_table.index[0]]"
      ],
      "execution_count": 33,
      "outputs": [
        {
          "output_type": "execute_result",
          "data": {
            "text/html": [
              "<div>\n",
              "<style scoped>\n",
              "    .dataframe tbody tr th:only-of-type {\n",
              "        vertical-align: middle;\n",
              "    }\n",
              "\n",
              "    .dataframe tbody tr th {\n",
              "        vertical-align: top;\n",
              "    }\n",
              "\n",
              "    .dataframe thead th {\n",
              "        text-align: right;\n",
              "    }\n",
              "</style>\n",
              "<table border=\"1\" class=\"dataframe\">\n",
              "  <thead>\n",
              "    <tr style=\"text-align: right;\">\n",
              "      <th></th>\n",
              "      <th>InvoiceNo</th>\n",
              "      <th>StockCode</th>\n",
              "      <th>Description</th>\n",
              "      <th>Quantity</th>\n",
              "      <th>InvoiceDate</th>\n",
              "      <th>UnitPrice</th>\n",
              "      <th>CustomerID</th>\n",
              "      <th>Country</th>\n",
              "      <th>Total_price</th>\n",
              "    </tr>\n",
              "  </thead>\n",
              "  <tbody>\n",
              "    <tr>\n",
              "      <th>61619</th>\n",
              "      <td>541431</td>\n",
              "      <td>23166</td>\n",
              "      <td>MEDIUM CERAMIC TOP STORAGE JAR</td>\n",
              "      <td>74215</td>\n",
              "      <td>2011-01-18 10:01:00</td>\n",
              "      <td>1.04</td>\n",
              "      <td>12346.0</td>\n",
              "      <td>United Kingdom</td>\n",
              "      <td>77183.6</td>\n",
              "    </tr>\n",
              "  </tbody>\n",
              "</table>\n",
              "</div>"
            ],
            "text/plain": [
              "      InvoiceNo StockCode  ...         Country  Total_price\n",
              "61619    541431     23166  ...  United Kingdom      77183.6\n",
              "\n",
              "[1 rows x 9 columns]"
            ]
          },
          "metadata": {
            "tags": []
          },
          "execution_count": 33
        }
      ]
    },
    {
      "cell_type": "markdown",
      "metadata": {
        "colab_type": "text",
        "id": "yBf2biSWgLBb"
      },
      "source": [
        "- We can see that he puchased single product in bulk units maybe because it was a clearance sale."
      ]
    },
    {
      "cell_type": "code",
      "metadata": {
        "colab_type": "code",
        "id": "jklB4A4Yxb0n",
        "outputId": "cfc2bddd-f8a1-492e-ff3b-655a4551adbb",
        "colab": {
          "base_uri": "https://localhost:8080/",
          "height": 144
        }
      },
      "source": [
        "#forming quantiles\n",
        "\n",
        "'''quartile_temp = rfm_table.describe()[4:7]\n",
        "quartile_temp'''\n",
        "\n",
        "quartile = rfm_table.quantile(q=[0.25, 0.5, 0.75])\n",
        "quartile"
      ],
      "execution_count": 34,
      "outputs": [
        {
          "output_type": "execute_result",
          "data": {
            "text/html": [
              "<div>\n",
              "<style scoped>\n",
              "    .dataframe tbody tr th:only-of-type {\n",
              "        vertical-align: middle;\n",
              "    }\n",
              "\n",
              "    .dataframe tbody tr th {\n",
              "        vertical-align: top;\n",
              "    }\n",
              "\n",
              "    .dataframe thead th {\n",
              "        text-align: right;\n",
              "    }\n",
              "</style>\n",
              "<table border=\"1\" class=\"dataframe\">\n",
              "  <thead>\n",
              "    <tr style=\"text-align: right;\">\n",
              "      <th></th>\n",
              "      <th>Recency</th>\n",
              "      <th>Frequency</th>\n",
              "      <th>Monetary</th>\n",
              "    </tr>\n",
              "  </thead>\n",
              "  <tbody>\n",
              "    <tr>\n",
              "      <th>0.25</th>\n",
              "      <td>18.0</td>\n",
              "      <td>17.0</td>\n",
              "      <td>300.04</td>\n",
              "    </tr>\n",
              "    <tr>\n",
              "      <th>0.50</th>\n",
              "      <td>51.0</td>\n",
              "      <td>41.0</td>\n",
              "      <td>651.82</td>\n",
              "    </tr>\n",
              "    <tr>\n",
              "      <th>0.75</th>\n",
              "      <td>143.0</td>\n",
              "      <td>99.0</td>\n",
              "      <td>1575.89</td>\n",
              "    </tr>\n",
              "  </tbody>\n",
              "</table>\n",
              "</div>"
            ],
            "text/plain": [
              "      Recency  Frequency  Monetary\n",
              "0.25     18.0       17.0    300.04\n",
              "0.50     51.0       41.0    651.82\n",
              "0.75    143.0       99.0   1575.89"
            ]
          },
          "metadata": {
            "tags": []
          },
          "execution_count": 34
        }
      ]
    },
    {
      "cell_type": "markdown",
      "metadata": {
        "id": "LX0GoFawLIUJ",
        "colab_type": "text"
      },
      "source": [
        "- Above we have added the table in Quartile range , i.e, 25% - 50% - 75%\n",
        "- Below is the image to best describe Quartile Range."
      ]
    },
    {
      "cell_type": "markdown",
      "metadata": {
        "id": "fvhD10dMLIUL",
        "colab_type": "text"
      },
      "source": [
        "![Image](https://www.lemnatec.com/wp-content/uploads/bell_curve_nir.jpg)"
      ]
    },
    {
      "cell_type": "code",
      "metadata": {
        "colab_type": "code",
        "id": "SY4RjxDK7pIk",
        "outputId": "fd2b1a0c-7085-4726-e2e4-13d38c8d17b8",
        "colab": {
          "base_uri": "https://localhost:8080/",
          "height": 72
        }
      },
      "source": [
        "#converting them to dictionary\n",
        "\n",
        "quartile = quartile.to_dict()\n",
        "quartile"
      ],
      "execution_count": 35,
      "outputs": [
        {
          "output_type": "execute_result",
          "data": {
            "text/plain": [
              "{'Frequency': {0.25: 17.0, 0.5: 41.0, 0.75: 99.0},\n",
              " 'Monetary': {0.25: 300.03999999999996, 0.5: 651.8199999999999, 0.75: 1575.89},\n",
              " 'Recency': {0.25: 18.0, 0.5: 51.0, 0.75: 143.0}}"
            ]
          },
          "metadata": {
            "tags": []
          },
          "execution_count": 35
        }
      ]
    },
    {
      "cell_type": "code",
      "metadata": {
        "colab_type": "code",
        "id": "bBLOlBkaiQLi",
        "outputId": "a2e40148-f323-420c-8783-40829f9163bf",
        "colab": {
          "base_uri": "https://localhost:8080/",
          "height": 35
        }
      },
      "source": [
        "quartile['Recency'][0.25]"
      ],
      "execution_count": 36,
      "outputs": [
        {
          "output_type": "execute_result",
          "data": {
            "text/plain": [
              "18.0"
            ]
          },
          "metadata": {
            "tags": []
          },
          "execution_count": 36
        }
      ]
    },
    {
      "cell_type": "markdown",
      "metadata": {
        "colab_type": "text",
        "id": "yQUemR1Zi90z"
      },
      "source": [
        "Lowest recency, highest frequency and monetary are our best customers :\n",
        "- For recency a good customer would be a part of the lowest quartile designated as '1'. Lower recency states how recent customer shopped something in store.\n",
        "- For frequency and monetary a good customer would be a part of the highest quartile here designated as '1'. This states that higher frequency/monetary.\n",
        "- In short, R is inversely proportional to F & M."
      ]
    },
    {
      "cell_type": "code",
      "metadata": {
        "colab_type": "code",
        "id": "kdKXbiMNhFX8",
        "colab": {
          "base_uri": "https://localhost:8080/",
          "height": 55
        },
        "outputId": "62872421-29a9-44b3-b6d0-24973767db98"
      },
      "source": [
        "#User defined functions\n",
        "\n",
        "def Rscore(data, column, quartiles):\n",
        "    if data <= quartiles[column][0.25]:\n",
        "        return 1\n",
        "    if data <= quartiles[column][0.5]:\n",
        "        return 2\n",
        "    if data <= quartiles[column][0.75]:\n",
        "        return 3\n",
        "    else:\n",
        "        return 4\n",
        "    \n",
        "def FMscore(data, column, quartiles):\n",
        "    if data <= quartiles[column][0.25]:\n",
        "        return 4\n",
        "    if data <= quartiles[column][0.5]:\n",
        "        return 3\n",
        "    if data <= quartiles[column][0.75]:\n",
        "        return 2\n",
        "    else:\n",
        "        return 1\n",
        "    \n",
        "'''def Rscore(data):\n",
        "    if data <= quartile_temp['Recency'][quart_idx[0]]:\n",
        "        return 1\n",
        "    if data <= quartile_temp['Recency'][quart_idx[1]]:\n",
        "        return 2\n",
        "    if data <= quartile_temp['Recency'][quart_idx[2]]:\n",
        "        return 3\n",
        "    else:\n",
        "        return 4\n",
        "    \n",
        "def FMScore(data, col):\n",
        "    if data <= quartile_temp[str(col)][quart_idx[0]]:\n",
        "        return 4\n",
        "    if data <= quartile_temp[str(col)][quart_idx[1]]:\n",
        "        return 3\n",
        "    if data <= quartile_temp[str(col)][quart_idx[2]]:\n",
        "        return 2\n",
        "    else:\n",
        "        return 1'''"
      ],
      "execution_count": 37,
      "outputs": [
        {
          "output_type": "execute_result",
          "data": {
            "text/plain": [
              "\"def Rscore(data):\\n    if data <= quartile_temp['Recency'][quart_idx[0]]:\\n        return 1\\n    if data <= quartile_temp['Recency'][quart_idx[1]]:\\n        return 2\\n    if data <= quartile_temp['Recency'][quart_idx[2]]:\\n        return 3\\n    else:\\n        return 4\\n    \\ndef FMScore(data, col):\\n    if data <= quartile_temp[str(col)][quart_idx[0]]:\\n        return 4\\n    if data <= quartile_temp[str(col)][quart_idx[1]]:\\n        return 3\\n    if data <= quartile_temp[str(col)][quart_idx[2]]:\\n        return 2\\n    else:\\n        return 1\""
            ]
          },
          "metadata": {
            "tags": []
          },
          "execution_count": 37
        }
      ]
    },
    {
      "cell_type": "markdown",
      "metadata": {
        "id": "4Dw9nDNpLIUe",
        "colab_type": "text"
      },
      "source": [
        "- We had created user-defined functions here to assign respective scores based on which quartile data belongs to."
      ]
    },
    {
      "cell_type": "markdown",
      "metadata": {
        "id": "4CAMKdR4LIUg",
        "colab_type": "text"
      },
      "source": [
        "### Assigning RFM Scores"
      ]
    },
    {
      "cell_type": "code",
      "metadata": {
        "colab_type": "code",
        "id": "LF2lX9zVkDfK",
        "colab": {}
      },
      "source": [
        "#Taking copy of RFM table\n",
        "\n",
        "rfm_table_copy = rfm_table.copy()"
      ],
      "execution_count": 0,
      "outputs": []
    },
    {
      "cell_type": "code",
      "metadata": {
        "colab_type": "code",
        "id": "R30UdVKXjbab",
        "colab": {}
      },
      "source": [
        "#Applying Defined functions on specified columns\n",
        "rfm_table_copy['r_quartile'] = rfm_table_copy['Recency'].apply(Rscore, args=('Recency', quartile))\n",
        "rfm_table_copy['f_quartile'] = rfm_table_copy['Frequency'].apply(FMscore, args=('Frequency', quartile))\n",
        "rfm_table_copy['m_quartile'] = rfm_table_copy['Monetary'].apply(FMscore, args=('Monetary', quartile))\n",
        "\n",
        "#Resetting Index\n",
        "rfm_table_copy.reset_index(inplace=True)\n",
        "\n",
        "#Forming a new column which includes combined rfm score\n",
        "rfm_table_copy['RFMscore'] = rfm_table_copy['r_quartile'].astype('str') + rfm_table_copy['f_quartile'].astype('str') + rfm_table_copy['m_quartile'].astype('str')"
      ],
      "execution_count": 0,
      "outputs": []
    },
    {
      "cell_type": "code",
      "metadata": {
        "colab_type": "code",
        "id": "-vm18JXFk9J7",
        "outputId": "6926e602-3789-42cf-b74e-3d6f9342cec5",
        "scrolled": true,
        "colab": {
          "base_uri": "https://localhost:8080/",
          "height": 363
        }
      },
      "source": [
        "rfm_table_copy.head(10)"
      ],
      "execution_count": 40,
      "outputs": [
        {
          "output_type": "execute_result",
          "data": {
            "text/html": [
              "<div>\n",
              "<style scoped>\n",
              "    .dataframe tbody tr th:only-of-type {\n",
              "        vertical-align: middle;\n",
              "    }\n",
              "\n",
              "    .dataframe tbody tr th {\n",
              "        vertical-align: top;\n",
              "    }\n",
              "\n",
              "    .dataframe thead th {\n",
              "        text-align: right;\n",
              "    }\n",
              "</style>\n",
              "<table border=\"1\" class=\"dataframe\">\n",
              "  <thead>\n",
              "    <tr style=\"text-align: right;\">\n",
              "      <th></th>\n",
              "      <th>CustomerID</th>\n",
              "      <th>Recency</th>\n",
              "      <th>Frequency</th>\n",
              "      <th>Monetary</th>\n",
              "      <th>r_quartile</th>\n",
              "      <th>f_quartile</th>\n",
              "      <th>m_quartile</th>\n",
              "      <th>RFMscore</th>\n",
              "    </tr>\n",
              "  </thead>\n",
              "  <tbody>\n",
              "    <tr>\n",
              "      <th>0</th>\n",
              "      <td>12346.0</td>\n",
              "      <td>326</td>\n",
              "      <td>1</td>\n",
              "      <td>77183.60</td>\n",
              "      <td>4</td>\n",
              "      <td>4</td>\n",
              "      <td>1</td>\n",
              "      <td>441</td>\n",
              "    </tr>\n",
              "    <tr>\n",
              "      <th>1</th>\n",
              "      <td>12747.0</td>\n",
              "      <td>2</td>\n",
              "      <td>103</td>\n",
              "      <td>4196.01</td>\n",
              "      <td>1</td>\n",
              "      <td>1</td>\n",
              "      <td>1</td>\n",
              "      <td>111</td>\n",
              "    </tr>\n",
              "    <tr>\n",
              "      <th>2</th>\n",
              "      <td>12748.0</td>\n",
              "      <td>1</td>\n",
              "      <td>4596</td>\n",
              "      <td>33719.73</td>\n",
              "      <td>1</td>\n",
              "      <td>1</td>\n",
              "      <td>1</td>\n",
              "      <td>111</td>\n",
              "    </tr>\n",
              "    <tr>\n",
              "      <th>3</th>\n",
              "      <td>12749.0</td>\n",
              "      <td>4</td>\n",
              "      <td>199</td>\n",
              "      <td>4090.88</td>\n",
              "      <td>1</td>\n",
              "      <td>1</td>\n",
              "      <td>1</td>\n",
              "      <td>111</td>\n",
              "    </tr>\n",
              "    <tr>\n",
              "      <th>4</th>\n",
              "      <td>12820.0</td>\n",
              "      <td>3</td>\n",
              "      <td>59</td>\n",
              "      <td>942.34</td>\n",
              "      <td>1</td>\n",
              "      <td>2</td>\n",
              "      <td>2</td>\n",
              "      <td>122</td>\n",
              "    </tr>\n",
              "    <tr>\n",
              "      <th>5</th>\n",
              "      <td>12821.0</td>\n",
              "      <td>214</td>\n",
              "      <td>6</td>\n",
              "      <td>92.72</td>\n",
              "      <td>4</td>\n",
              "      <td>4</td>\n",
              "      <td>4</td>\n",
              "      <td>444</td>\n",
              "    </tr>\n",
              "    <tr>\n",
              "      <th>6</th>\n",
              "      <td>12822.0</td>\n",
              "      <td>71</td>\n",
              "      <td>46</td>\n",
              "      <td>948.88</td>\n",
              "      <td>3</td>\n",
              "      <td>2</td>\n",
              "      <td>2</td>\n",
              "      <td>322</td>\n",
              "    </tr>\n",
              "    <tr>\n",
              "      <th>7</th>\n",
              "      <td>12823.0</td>\n",
              "      <td>75</td>\n",
              "      <td>5</td>\n",
              "      <td>1759.50</td>\n",
              "      <td>3</td>\n",
              "      <td>4</td>\n",
              "      <td>1</td>\n",
              "      <td>341</td>\n",
              "    </tr>\n",
              "    <tr>\n",
              "      <th>8</th>\n",
              "      <td>12824.0</td>\n",
              "      <td>60</td>\n",
              "      <td>25</td>\n",
              "      <td>397.12</td>\n",
              "      <td>3</td>\n",
              "      <td>3</td>\n",
              "      <td>3</td>\n",
              "      <td>333</td>\n",
              "    </tr>\n",
              "    <tr>\n",
              "      <th>9</th>\n",
              "      <td>12826.0</td>\n",
              "      <td>3</td>\n",
              "      <td>91</td>\n",
              "      <td>1474.72</td>\n",
              "      <td>1</td>\n",
              "      <td>2</td>\n",
              "      <td>2</td>\n",
              "      <td>122</td>\n",
              "    </tr>\n",
              "  </tbody>\n",
              "</table>\n",
              "</div>"
            ],
            "text/plain": [
              "   CustomerID  Recency  Frequency  ...  f_quartile  m_quartile  RFMscore\n",
              "0     12346.0      326          1  ...           4           1       441\n",
              "1     12747.0        2        103  ...           1           1       111\n",
              "2     12748.0        1       4596  ...           1           1       111\n",
              "3     12749.0        4        199  ...           1           1       111\n",
              "4     12820.0        3         59  ...           2           2       122\n",
              "5     12821.0      214          6  ...           4           4       444\n",
              "6     12822.0       71         46  ...           2           2       322\n",
              "7     12823.0       75          5  ...           4           1       341\n",
              "8     12824.0       60         25  ...           3           3       333\n",
              "9     12826.0        3         91  ...           2           2       122\n",
              "\n",
              "[10 rows x 8 columns]"
            ]
          },
          "metadata": {
            "tags": []
          },
          "execution_count": 40
        }
      ]
    },
    {
      "cell_type": "markdown",
      "metadata": {
        "id": "TmmLd_pbLIUw",
        "colab_type": "text"
      },
      "source": [
        "- Above we can see that we had nicely assigned RMF scores to respective customers.\n",
        "- In total, we've 4 quartiles. **25% - 50% - 75%** and other quartile has all the values which are **outliers.**"
      ]
    },
    {
      "cell_type": "markdown",
      "metadata": {
        "id": "IFXyVixeLIUx",
        "colab_type": "text"
      },
      "source": [
        "### Distribution of Recency, Frequency and Monetary"
      ]
    },
    {
      "cell_type": "code",
      "metadata": {
        "colab_type": "code",
        "id": "eAOf7mQCz3Zf",
        "outputId": "74e1f1b9-cecd-4711-de6d-88c88d3706af",
        "scrolled": false,
        "colab": {
          "base_uri": "https://localhost:8080/",
          "height": 929
        }
      },
      "source": [
        "sns.set_context('paper')\n",
        "plt.subplots_adjust(hspace=1, wspace=1)\n",
        "plt.figure(figsize=(20,15))\n",
        "\n",
        "plt.subplot(3,1,1)\n",
        "sns.distplot(rfm_table_copy['Recency'], color='r')\n",
        "plt.title('Spread of Recency')\n",
        "\n",
        "plt.subplot(3,1,2)\n",
        "sns.distplot(rfm_table_copy['Frequency'], color='g')\n",
        "plt.title('Spread of Frequency')\n",
        "\n",
        "plt.subplot(3,1,3)\n",
        "sns.distplot(rfm_table_copy['Monetary'], color='b')\n",
        "plt.title('Spread of Monetary')"
      ],
      "execution_count": 41,
      "outputs": [
        {
          "output_type": "execute_result",
          "data": {
            "text/plain": [
              "Text(0.5, 1.0, 'Spread of Monetary')"
            ]
          },
          "metadata": {
            "tags": []
          },
          "execution_count": 41
        },
        {
          "output_type": "display_data",
          "data": {
            "text/plain": [
              "<Figure size 432x288 with 0 Axes>"
            ]
          },
          "metadata": {
            "tags": []
          }
        },
        {
          "output_type": "display_data",
          "data": {
            "image/png": "[encoded data removed]",
            "text/plain": [
              "<Figure size 1440x1080 with 3 Axes>"
            ]
          },
          "metadata": {
            "tags": []
          }
        }
      ]
    },
    {
      "cell_type": "markdown",
      "metadata": {
        "id": "m01zp0hhLIU3",
        "colab_type": "text"
      },
      "source": [
        "- Above Viz. gives us brief idea on how our RFM data data is distributed. "
      ]
    },
    {
      "cell_type": "markdown",
      "metadata": {
        "id": "lQFe2vyHLIU3",
        "colab_type": "text"
      },
      "source": [
        "### Correlation heatmap"
      ]
    },
    {
      "cell_type": "code",
      "metadata": {
        "colab_type": "code",
        "id": "lTyZk-Cr8AmF",
        "outputId": "16fdea13-4f2c-4d24-b72b-229b27a7c597",
        "scrolled": false,
        "colab": {
          "base_uri": "https://localhost:8080/",
          "height": 317
        }
      },
      "source": [
        "#correlation plot\n",
        "\n",
        "sns.set_context('talk')\n",
        "sns.heatmap(rfm_table_copy[['Recency', 'Frequency', 'Monetary']].corr(), annot=True)\n",
        "plt.title('Pearson Correlation')"
      ],
      "execution_count": 42,
      "outputs": [
        {
          "output_type": "execute_result",
          "data": {
            "text/plain": [
              "Text(0.5, 1.0, 'Pearson Correlation')"
            ]
          },
          "metadata": {
            "tags": []
          },
          "execution_count": 42
        },
        {
          "output_type": "display_data",
          "data": {
            "image/png": "[encoded data removed]",
            "text/plain": [
              "<Figure size 432x288 with 2 Axes>"
            ]
          },
          "metadata": {
            "tags": []
          }
        }
      ]
    },
    {
      "cell_type": "markdown",
      "metadata": {
        "id": "QPLTOPoFLIVG",
        "colab_type": "text"
      },
      "source": [
        "- Heatmaps are beautiful ways of representing Correlations.\n",
        "- Frequency and monetary value are positively correlated with each other implying an increase in frequency implies increase in monetary value.\n",
        "- Frequency and Recency are negatively correlated with each other."
      ]
    },
    {
      "cell_type": "markdown",
      "metadata": {
        "id": "L_Gy_GzJLIVH",
        "colab_type": "text"
      },
      "source": [
        "### Targeting different customer segments"
      ]
    },
    {
      "cell_type": "markdown",
      "metadata": {
        "colab_type": "text",
        "id": "jtCqDPf8pvaa"
      },
      "source": [
        "### (1) Best Customers\n",
        "\n",
        "- These are the customers that bought recently, buy often and spend a lot. It’s likely that they will continue to do so.\n",
        "- Since they already like you so much, consider marketing to them without price incentives to preserve your profit margin.\n",
        "- Be sure to tell these customers about new products you carry, how to connect on social networks, and any loyalty programs or social media incentives you run."
      ]
    },
    {
      "cell_type": "code",
      "metadata": {
        "colab_type": "code",
        "id": "Qnfs90S9AIjR",
        "outputId": "83e688aa-7c61-43b8-d014-53d0820ad159",
        "colab": {
          "base_uri": "https://localhost:8080/",
          "height": 363
        }
      },
      "source": [
        "rfm_table_copy[rfm_table_copy['RFMscore'] == '111'].sort_values('Monetary', ascending=False).head(10)"
      ],
      "execution_count": 43,
      "outputs": [
        {
          "output_type": "execute_result",
          "data": {
            "text/html": [
              "<div>\n",
              "<style scoped>\n",
              "    .dataframe tbody tr th:only-of-type {\n",
              "        vertical-align: middle;\n",
              "    }\n",
              "\n",
              "    .dataframe tbody tr th {\n",
              "        vertical-align: top;\n",
              "    }\n",
              "\n",
              "    .dataframe thead th {\n",
              "        text-align: right;\n",
              "    }\n",
              "</style>\n",
              "<table border=\"1\" class=\"dataframe\">\n",
              "  <thead>\n",
              "    <tr style=\"text-align: right;\">\n",
              "      <th></th>\n",
              "      <th>CustomerID</th>\n",
              "      <th>Recency</th>\n",
              "      <th>Frequency</th>\n",
              "      <th>Monetary</th>\n",
              "      <th>r_quartile</th>\n",
              "      <th>f_quartile</th>\n",
              "      <th>m_quartile</th>\n",
              "      <th>RFMscore</th>\n",
              "    </tr>\n",
              "  </thead>\n",
              "  <tbody>\n",
              "    <tr>\n",
              "      <th>3784</th>\n",
              "      <td>18102.0</td>\n",
              "      <td>1</td>\n",
              "      <td>431</td>\n",
              "      <td>259657.30</td>\n",
              "      <td>1</td>\n",
              "      <td>1</td>\n",
              "      <td>1</td>\n",
              "      <td>111</td>\n",
              "    </tr>\n",
              "    <tr>\n",
              "      <th>3315</th>\n",
              "      <td>17450.0</td>\n",
              "      <td>8</td>\n",
              "      <td>337</td>\n",
              "      <td>194550.79</td>\n",
              "      <td>1</td>\n",
              "      <td>1</td>\n",
              "      <td>1</td>\n",
              "      <td>111</td>\n",
              "    </tr>\n",
              "    <tr>\n",
              "      <th>3357</th>\n",
              "      <td>17511.0</td>\n",
              "      <td>3</td>\n",
              "      <td>963</td>\n",
              "      <td>91062.38</td>\n",
              "      <td>1</td>\n",
              "      <td>1</td>\n",
              "      <td>1</td>\n",
              "      <td>111</td>\n",
              "    </tr>\n",
              "    <tr>\n",
              "      <th>2767</th>\n",
              "      <td>16684.0</td>\n",
              "      <td>4</td>\n",
              "      <td>277</td>\n",
              "      <td>66653.56</td>\n",
              "      <td>1</td>\n",
              "      <td>1</td>\n",
              "      <td>1</td>\n",
              "      <td>111</td>\n",
              "    </tr>\n",
              "    <tr>\n",
              "      <th>903</th>\n",
              "      <td>14096.0</td>\n",
              "      <td>4</td>\n",
              "      <td>5111</td>\n",
              "      <td>65164.79</td>\n",
              "      <td>1</td>\n",
              "      <td>1</td>\n",
              "      <td>1</td>\n",
              "      <td>111</td>\n",
              "    </tr>\n",
              "    <tr>\n",
              "      <th>621</th>\n",
              "      <td>13694.0</td>\n",
              "      <td>4</td>\n",
              "      <td>568</td>\n",
              "      <td>65039.62</td>\n",
              "      <td>1</td>\n",
              "      <td>1</td>\n",
              "      <td>1</td>\n",
              "      <td>111</td>\n",
              "    </tr>\n",
              "    <tr>\n",
              "      <th>1772</th>\n",
              "      <td>15311.0</td>\n",
              "      <td>1</td>\n",
              "      <td>2379</td>\n",
              "      <td>60767.90</td>\n",
              "      <td>1</td>\n",
              "      <td>1</td>\n",
              "      <td>1</td>\n",
              "      <td>111</td>\n",
              "    </tr>\n",
              "    <tr>\n",
              "      <th>191</th>\n",
              "      <td>13089.0</td>\n",
              "      <td>3</td>\n",
              "      <td>1818</td>\n",
              "      <td>58825.83</td>\n",
              "      <td>1</td>\n",
              "      <td>1</td>\n",
              "      <td>1</td>\n",
              "      <td>111</td>\n",
              "    </tr>\n",
              "    <tr>\n",
              "      <th>2110</th>\n",
              "      <td>15769.0</td>\n",
              "      <td>7</td>\n",
              "      <td>130</td>\n",
              "      <td>56252.72</td>\n",
              "      <td>1</td>\n",
              "      <td>1</td>\n",
              "      <td>1</td>\n",
              "      <td>111</td>\n",
              "    </tr>\n",
              "    <tr>\n",
              "      <th>1580</th>\n",
              "      <td>15061.0</td>\n",
              "      <td>4</td>\n",
              "      <td>403</td>\n",
              "      <td>54534.14</td>\n",
              "      <td>1</td>\n",
              "      <td>1</td>\n",
              "      <td>1</td>\n",
              "      <td>111</td>\n",
              "    </tr>\n",
              "  </tbody>\n",
              "</table>\n",
              "</div>"
            ],
            "text/plain": [
              "      CustomerID  Recency  Frequency  ...  f_quartile  m_quartile  RFMscore\n",
              "3784     18102.0        1        431  ...           1           1       111\n",
              "3315     17450.0        8        337  ...           1           1       111\n",
              "3357     17511.0        3        963  ...           1           1       111\n",
              "2767     16684.0        4        277  ...           1           1       111\n",
              "903      14096.0        4       5111  ...           1           1       111\n",
              "621      13694.0        4        568  ...           1           1       111\n",
              "1772     15311.0        1       2379  ...           1           1       111\n",
              "191      13089.0        3       1818  ...           1           1       111\n",
              "2110     15769.0        7        130  ...           1           1       111\n",
              "1580     15061.0        4        403  ...           1           1       111\n",
              "\n",
              "[10 rows x 8 columns]"
            ]
          },
          "metadata": {
            "tags": []
          },
          "execution_count": 43
        }
      ]
    },
    {
      "cell_type": "code",
      "metadata": {
        "colab_type": "code",
        "id": "wXLjqluz0RrK",
        "colab": {}
      },
      "source": [
        "rfm_table_copy['cust_type'] = np.where(rfm_table_copy['RFMscore'] == '111', 'Best_Cust', 'NA')"
      ],
      "execution_count": 0,
      "outputs": []
    },
    {
      "cell_type": "markdown",
      "metadata": {
        "colab_type": "text",
        "id": "818-0G5rqj6r"
      },
      "source": [
        "### (2) Big Spenders\n",
        "\n",
        "- Big spenders have spent a lot of money over their lifetime as your customer.\n",
        "- They trust you enough to invest a lot in your products.\n",
        "- Considering marketing your most expensive products and top of the line models to this group."
      ]
    },
    {
      "cell_type": "code",
      "metadata": {
        "colab_type": "code",
        "id": "bPxnVs7CqI5E",
        "outputId": "33d16627-f697-4f2c-ee3b-4972fc5c59bd",
        "colab": {
          "base_uri": "https://localhost:8080/",
          "height": 363
        }
      },
      "source": [
        "rfm_table_copy[rfm_table_copy['m_quartile'] == 1].sort_values('Monetary', ascending=False).head(10)"
      ],
      "execution_count": 45,
      "outputs": [
        {
          "output_type": "execute_result",
          "data": {
            "text/html": [
              "<div>\n",
              "<style scoped>\n",
              "    .dataframe tbody tr th:only-of-type {\n",
              "        vertical-align: middle;\n",
              "    }\n",
              "\n",
              "    .dataframe tbody tr th {\n",
              "        vertical-align: top;\n",
              "    }\n",
              "\n",
              "    .dataframe thead th {\n",
              "        text-align: right;\n",
              "    }\n",
              "</style>\n",
              "<table border=\"1\" class=\"dataframe\">\n",
              "  <thead>\n",
              "    <tr style=\"text-align: right;\">\n",
              "      <th></th>\n",
              "      <th>CustomerID</th>\n",
              "      <th>Recency</th>\n",
              "      <th>Frequency</th>\n",
              "      <th>Monetary</th>\n",
              "      <th>r_quartile</th>\n",
              "      <th>f_quartile</th>\n",
              "      <th>m_quartile</th>\n",
              "      <th>RFMscore</th>\n",
              "      <th>cust_type</th>\n",
              "    </tr>\n",
              "  </thead>\n",
              "  <tbody>\n",
              "    <tr>\n",
              "      <th>3784</th>\n",
              "      <td>18102.0</td>\n",
              "      <td>1</td>\n",
              "      <td>431</td>\n",
              "      <td>259657.30</td>\n",
              "      <td>1</td>\n",
              "      <td>1</td>\n",
              "      <td>1</td>\n",
              "      <td>111</td>\n",
              "      <td>Best_Cust</td>\n",
              "    </tr>\n",
              "    <tr>\n",
              "      <th>3315</th>\n",
              "      <td>17450.0</td>\n",
              "      <td>8</td>\n",
              "      <td>337</td>\n",
              "      <td>194550.79</td>\n",
              "      <td>1</td>\n",
              "      <td>1</td>\n",
              "      <td>1</td>\n",
              "      <td>111</td>\n",
              "      <td>Best_Cust</td>\n",
              "    </tr>\n",
              "    <tr>\n",
              "      <th>2599</th>\n",
              "      <td>16446.0</td>\n",
              "      <td>1</td>\n",
              "      <td>3</td>\n",
              "      <td>168472.50</td>\n",
              "      <td>1</td>\n",
              "      <td>4</td>\n",
              "      <td>1</td>\n",
              "      <td>141</td>\n",
              "      <td>NA</td>\n",
              "    </tr>\n",
              "    <tr>\n",
              "      <th>3357</th>\n",
              "      <td>17511.0</td>\n",
              "      <td>3</td>\n",
              "      <td>963</td>\n",
              "      <td>91062.38</td>\n",
              "      <td>1</td>\n",
              "      <td>1</td>\n",
              "      <td>1</td>\n",
              "      <td>111</td>\n",
              "      <td>Best_Cust</td>\n",
              "    </tr>\n",
              "    <tr>\n",
              "      <th>2295</th>\n",
              "      <td>16029.0</td>\n",
              "      <td>39</td>\n",
              "      <td>242</td>\n",
              "      <td>81024.84</td>\n",
              "      <td>2</td>\n",
              "      <td>1</td>\n",
              "      <td>1</td>\n",
              "      <td>211</td>\n",
              "      <td>NA</td>\n",
              "    </tr>\n",
              "    <tr>\n",
              "      <th>0</th>\n",
              "      <td>12346.0</td>\n",
              "      <td>326</td>\n",
              "      <td>1</td>\n",
              "      <td>77183.60</td>\n",
              "      <td>4</td>\n",
              "      <td>4</td>\n",
              "      <td>1</td>\n",
              "      <td>441</td>\n",
              "      <td>NA</td>\n",
              "    </tr>\n",
              "    <tr>\n",
              "      <th>2767</th>\n",
              "      <td>16684.0</td>\n",
              "      <td>4</td>\n",
              "      <td>277</td>\n",
              "      <td>66653.56</td>\n",
              "      <td>1</td>\n",
              "      <td>1</td>\n",
              "      <td>1</td>\n",
              "      <td>111</td>\n",
              "      <td>Best_Cust</td>\n",
              "    </tr>\n",
              "    <tr>\n",
              "      <th>903</th>\n",
              "      <td>14096.0</td>\n",
              "      <td>4</td>\n",
              "      <td>5111</td>\n",
              "      <td>65164.79</td>\n",
              "      <td>1</td>\n",
              "      <td>1</td>\n",
              "      <td>1</td>\n",
              "      <td>111</td>\n",
              "      <td>Best_Cust</td>\n",
              "    </tr>\n",
              "    <tr>\n",
              "      <th>621</th>\n",
              "      <td>13694.0</td>\n",
              "      <td>4</td>\n",
              "      <td>568</td>\n",
              "      <td>65039.62</td>\n",
              "      <td>1</td>\n",
              "      <td>1</td>\n",
              "      <td>1</td>\n",
              "      <td>111</td>\n",
              "      <td>Best_Cust</td>\n",
              "    </tr>\n",
              "    <tr>\n",
              "      <th>1772</th>\n",
              "      <td>15311.0</td>\n",
              "      <td>1</td>\n",
              "      <td>2379</td>\n",
              "      <td>60767.90</td>\n",
              "      <td>1</td>\n",
              "      <td>1</td>\n",
              "      <td>1</td>\n",
              "      <td>111</td>\n",
              "      <td>Best_Cust</td>\n",
              "    </tr>\n",
              "  </tbody>\n",
              "</table>\n",
              "</div>"
            ],
            "text/plain": [
              "      CustomerID  Recency  Frequency  ...  m_quartile  RFMscore  cust_type\n",
              "3784     18102.0        1        431  ...           1       111  Best_Cust\n",
              "3315     17450.0        8        337  ...           1       111  Best_Cust\n",
              "2599     16446.0        1          3  ...           1       141         NA\n",
              "3357     17511.0        3        963  ...           1       111  Best_Cust\n",
              "2295     16029.0       39        242  ...           1       211         NA\n",
              "0        12346.0      326          1  ...           1       441         NA\n",
              "2767     16684.0        4        277  ...           1       111  Best_Cust\n",
              "903      14096.0        4       5111  ...           1       111  Best_Cust\n",
              "621      13694.0        4        568  ...           1       111  Best_Cust\n",
              "1772     15311.0        1       2379  ...           1       111  Best_Cust\n",
              "\n",
              "[10 rows x 9 columns]"
            ]
          },
          "metadata": {
            "tags": []
          },
          "execution_count": 45
        }
      ]
    },
    {
      "cell_type": "code",
      "metadata": {
        "colab_type": "code",
        "id": "d3LoaXIs05UR",
        "outputId": "052b8915-6619-4b92-f859-a8758c89ffe4",
        "colab": {
          "base_uri": "https://localhost:8080/",
          "height": 109
        }
      },
      "source": [
        "big_spenders = rfm_table_copy[(rfm_table_copy['cust_type'] == 'NA') & (rfm_table_copy['m_quartile'] == 1)] #['cust_type'].replace('NA', 'Big_spenders')\n",
        "rfm_table_copy['cust_type'][big_spenders.index] = 'Big_Spenders'"
      ],
      "execution_count": 46,
      "outputs": [
        {
          "output_type": "stream",
          "text": [
            "/usr/local/lib/python3.6/dist-packages/ipykernel_launcher.py:2: SettingWithCopyWarning: \n",
            "A value is trying to be set on a copy of a slice from a DataFrame\n",
            "\n",
            "See the caveats in the documentation: http://pandas.pydata.org/pandas-docs/stable/indexing.html#indexing-view-versus-copy\n",
            "  \n"
          ],
          "name": "stderr"
        }
      ]
    },
    {
      "cell_type": "markdown",
      "metadata": {
        "colab_type": "text",
        "id": "dA3LuRETrK2b"
      },
      "source": [
        "### (3) Loyal Ones\n",
        "\n",
        "- Anyone with a high frequency should be considered loyal. This doesn’t mean they have necessarily bought recently, or that they spent a lot, though you could define that with your R and M factors."
      ]
    },
    {
      "cell_type": "code",
      "metadata": {
        "colab_type": "code",
        "id": "vGu3BAPPq1QN",
        "outputId": "0e41f77a-6a75-40e5-ed87-5b6734c65b4d",
        "colab": {
          "base_uri": "https://localhost:8080/",
          "height": 363
        }
      },
      "source": [
        "rfm_table_copy[rfm_table_copy['f_quartile'] == 1].sort_values('Frequency', ascending=False).head(10)"
      ],
      "execution_count": 47,
      "outputs": [
        {
          "output_type": "execute_result",
          "data": {
            "text/html": [
              "<div>\n",
              "<style scoped>\n",
              "    .dataframe tbody tr th:only-of-type {\n",
              "        vertical-align: middle;\n",
              "    }\n",
              "\n",
              "    .dataframe tbody tr th {\n",
              "        vertical-align: top;\n",
              "    }\n",
              "\n",
              "    .dataframe thead th {\n",
              "        text-align: right;\n",
              "    }\n",
              "</style>\n",
              "<table border=\"1\" class=\"dataframe\">\n",
              "  <thead>\n",
              "    <tr style=\"text-align: right;\">\n",
              "      <th></th>\n",
              "      <th>CustomerID</th>\n",
              "      <th>Recency</th>\n",
              "      <th>Frequency</th>\n",
              "      <th>Monetary</th>\n",
              "      <th>r_quartile</th>\n",
              "      <th>f_quartile</th>\n",
              "      <th>m_quartile</th>\n",
              "      <th>RFMscore</th>\n",
              "      <th>cust_type</th>\n",
              "    </tr>\n",
              "  </thead>\n",
              "  <tbody>\n",
              "    <tr>\n",
              "      <th>3594</th>\n",
              "      <td>17841.0</td>\n",
              "      <td>2</td>\n",
              "      <td>7847</td>\n",
              "      <td>40991.57</td>\n",
              "      <td>1</td>\n",
              "      <td>1</td>\n",
              "      <td>1</td>\n",
              "      <td>111</td>\n",
              "      <td>Best_Cust</td>\n",
              "    </tr>\n",
              "    <tr>\n",
              "      <th>903</th>\n",
              "      <td>14096.0</td>\n",
              "      <td>4</td>\n",
              "      <td>5111</td>\n",
              "      <td>65164.79</td>\n",
              "      <td>1</td>\n",
              "      <td>1</td>\n",
              "      <td>1</td>\n",
              "      <td>111</td>\n",
              "      <td>Best_Cust</td>\n",
              "    </tr>\n",
              "    <tr>\n",
              "      <th>2</th>\n",
              "      <td>12748.0</td>\n",
              "      <td>1</td>\n",
              "      <td>4596</td>\n",
              "      <td>33719.73</td>\n",
              "      <td>1</td>\n",
              "      <td>1</td>\n",
              "      <td>1</td>\n",
              "      <td>111</td>\n",
              "      <td>Best_Cust</td>\n",
              "    </tr>\n",
              "    <tr>\n",
              "      <th>1268</th>\n",
              "      <td>14606.0</td>\n",
              "      <td>1</td>\n",
              "      <td>2700</td>\n",
              "      <td>12156.65</td>\n",
              "      <td>1</td>\n",
              "      <td>1</td>\n",
              "      <td>1</td>\n",
              "      <td>111</td>\n",
              "      <td>Best_Cust</td>\n",
              "    </tr>\n",
              "    <tr>\n",
              "      <th>1772</th>\n",
              "      <td>15311.0</td>\n",
              "      <td>1</td>\n",
              "      <td>2379</td>\n",
              "      <td>60767.90</td>\n",
              "      <td>1</td>\n",
              "      <td>1</td>\n",
              "      <td>1</td>\n",
              "      <td>111</td>\n",
              "      <td>Best_Cust</td>\n",
              "    </tr>\n",
              "    <tr>\n",
              "      <th>191</th>\n",
              "      <td>13089.0</td>\n",
              "      <td>3</td>\n",
              "      <td>1818</td>\n",
              "      <td>58825.83</td>\n",
              "      <td>1</td>\n",
              "      <td>1</td>\n",
              "      <td>1</td>\n",
              "      <td>111</td>\n",
              "      <td>Best_Cust</td>\n",
              "    </tr>\n",
              "    <tr>\n",
              "      <th>320</th>\n",
              "      <td>13263.0</td>\n",
              "      <td>1</td>\n",
              "      <td>1677</td>\n",
              "      <td>7454.07</td>\n",
              "      <td>1</td>\n",
              "      <td>1</td>\n",
              "      <td>1</td>\n",
              "      <td>111</td>\n",
              "      <td>Best_Cust</td>\n",
              "    </tr>\n",
              "    <tr>\n",
              "      <th>1045</th>\n",
              "      <td>14298.0</td>\n",
              "      <td>8</td>\n",
              "      <td>1637</td>\n",
              "      <td>51527.30</td>\n",
              "      <td>1</td>\n",
              "      <td>1</td>\n",
              "      <td>1</td>\n",
              "      <td>111</td>\n",
              "      <td>Best_Cust</td>\n",
              "    </tr>\n",
              "    <tr>\n",
              "      <th>1561</th>\n",
              "      <td>15039.0</td>\n",
              "      <td>10</td>\n",
              "      <td>1502</td>\n",
              "      <td>19914.44</td>\n",
              "      <td>1</td>\n",
              "      <td>1</td>\n",
              "      <td>1</td>\n",
              "      <td>111</td>\n",
              "      <td>Best_Cust</td>\n",
              "    </tr>\n",
              "    <tr>\n",
              "      <th>3796</th>\n",
              "      <td>18118.0</td>\n",
              "      <td>11</td>\n",
              "      <td>1279</td>\n",
              "      <td>5653.82</td>\n",
              "      <td>1</td>\n",
              "      <td>1</td>\n",
              "      <td>1</td>\n",
              "      <td>111</td>\n",
              "      <td>Best_Cust</td>\n",
              "    </tr>\n",
              "  </tbody>\n",
              "</table>\n",
              "</div>"
            ],
            "text/plain": [
              "      CustomerID  Recency  Frequency  ...  m_quartile  RFMscore  cust_type\n",
              "3594     17841.0        2       7847  ...           1       111  Best_Cust\n",
              "903      14096.0        4       5111  ...           1       111  Best_Cust\n",
              "2        12748.0        1       4596  ...           1       111  Best_Cust\n",
              "1268     14606.0        1       2700  ...           1       111  Best_Cust\n",
              "1772     15311.0        1       2379  ...           1       111  Best_Cust\n",
              "191      13089.0        3       1818  ...           1       111  Best_Cust\n",
              "320      13263.0        1       1677  ...           1       111  Best_Cust\n",
              "1045     14298.0        8       1637  ...           1       111  Best_Cust\n",
              "1561     15039.0       10       1502  ...           1       111  Best_Cust\n",
              "3796     18118.0       11       1279  ...           1       111  Best_Cust\n",
              "\n",
              "[10 rows x 9 columns]"
            ]
          },
          "metadata": {
            "tags": []
          },
          "execution_count": 47
        }
      ]
    },
    {
      "cell_type": "code",
      "metadata": {
        "colab_type": "code",
        "id": "nsQ3bKDj6UJs",
        "outputId": "38452a01-4c26-4804-b3ba-988dc337878e",
        "colab": {
          "base_uri": "https://localhost:8080/",
          "height": 109
        }
      },
      "source": [
        "loyal_ones = rfm_table_copy[(rfm_table_copy['f_quartile'] == 1) & (rfm_table_copy['cust_type'] == 'NA')] #['cust_type'].replace('NA', 'Loyal_Cust')\n",
        "rfm_table_copy['cust_type'][loyal_ones.index] = 'Loyal_Cust'"
      ],
      "execution_count": 48,
      "outputs": [
        {
          "output_type": "stream",
          "text": [
            "/usr/local/lib/python3.6/dist-packages/ipykernel_launcher.py:2: SettingWithCopyWarning: \n",
            "A value is trying to be set on a copy of a slice from a DataFrame\n",
            "\n",
            "See the caveats in the documentation: http://pandas.pydata.org/pandas-docs/stable/indexing.html#indexing-view-versus-copy\n",
            "  \n"
          ],
          "name": "stderr"
        }
      ]
    },
    {
      "cell_type": "markdown",
      "metadata": {
        "colab_type": "text",
        "id": "I8JFnMeDrhDu"
      },
      "source": [
        "### (4) Loyal Joes\n",
        "\n",
        "- Loyal Joes buy often, but don’t spend very much.\n",
        "- Goal should be to increase the share of wallet you have from this customer.\n",
        "- Send offers that require them to “Spend 100 rupees to save 20 rupees” and “Buy 4, Get 1 Free.” These offers create high hurdles that must be cleared to gain the reward, and will increase the amount these loyal customers spend with you."
      ]
    },
    {
      "cell_type": "code",
      "metadata": {
        "colab_type": "code",
        "id": "nyqy2lnrrdnQ",
        "outputId": "adb918da-d0e8-4bab-f98d-555da9b3f3d0",
        "colab": {
          "base_uri": "https://localhost:8080/",
          "height": 81
        }
      },
      "source": [
        "rfm_table_copy[(rfm_table_copy['f_quartile'] == 1) & (rfm_table_copy['m_quartile'] == 4)].head()"
      ],
      "execution_count": 49,
      "outputs": [
        {
          "output_type": "execute_result",
          "data": {
            "text/html": [
              "<div>\n",
              "<style scoped>\n",
              "    .dataframe tbody tr th:only-of-type {\n",
              "        vertical-align: middle;\n",
              "    }\n",
              "\n",
              "    .dataframe tbody tr th {\n",
              "        vertical-align: top;\n",
              "    }\n",
              "\n",
              "    .dataframe thead th {\n",
              "        text-align: right;\n",
              "    }\n",
              "</style>\n",
              "<table border=\"1\" class=\"dataframe\">\n",
              "  <thead>\n",
              "    <tr style=\"text-align: right;\">\n",
              "      <th></th>\n",
              "      <th>CustomerID</th>\n",
              "      <th>Recency</th>\n",
              "      <th>Frequency</th>\n",
              "      <th>Monetary</th>\n",
              "      <th>r_quartile</th>\n",
              "      <th>f_quartile</th>\n",
              "      <th>m_quartile</th>\n",
              "      <th>RFMscore</th>\n",
              "      <th>cust_type</th>\n",
              "    </tr>\n",
              "  </thead>\n",
              "  <tbody>\n",
              "    <tr>\n",
              "      <th>3180</th>\n",
              "      <td>17254.0</td>\n",
              "      <td>5</td>\n",
              "      <td>112</td>\n",
              "      <td>272.44</td>\n",
              "      <td>1</td>\n",
              "      <td>1</td>\n",
              "      <td>4</td>\n",
              "      <td>114</td>\n",
              "      <td>Loyal_Cust</td>\n",
              "    </tr>\n",
              "  </tbody>\n",
              "</table>\n",
              "</div>"
            ],
            "text/plain": [
              "      CustomerID  Recency  Frequency  ...  m_quartile  RFMscore   cust_type\n",
              "3180     17254.0        5        112  ...           4       114  Loyal_Cust\n",
              "\n",
              "[1 rows x 9 columns]"
            ]
          },
          "metadata": {
            "tags": []
          },
          "execution_count": 49
        }
      ]
    },
    {
      "cell_type": "code",
      "metadata": {
        "colab_type": "code",
        "id": "e_NFjdi08fIT",
        "outputId": "696e1ecf-316a-40fa-8269-0b19f2a6a31a",
        "colab": {
          "base_uri": "https://localhost:8080/",
          "height": 109
        }
      },
      "source": [
        "loyal_joes = rfm_table_copy[(rfm_table_copy['f_quartile'] == 1) & (rfm_table_copy['m_quartile'] == 4) & (rfm_table_copy['cust_type'] == 'Loyal_Cust')]['cust_type'].replace('Loyal_Cust', 'Loyal_Joes')\n",
        "rfm_table_copy['cust_type'][loyal_joes.index] = 'Loyal_Joes'"
      ],
      "execution_count": 50,
      "outputs": [
        {
          "output_type": "stream",
          "text": [
            "/usr/local/lib/python3.6/dist-packages/ipykernel_launcher.py:2: SettingWithCopyWarning: \n",
            "A value is trying to be set on a copy of a slice from a DataFrame\n",
            "\n",
            "See the caveats in the documentation: http://pandas.pydata.org/pandas-docs/stable/indexing.html#indexing-view-versus-copy\n",
            "  \n"
          ],
          "name": "stderr"
        }
      ]
    },
    {
      "cell_type": "markdown",
      "metadata": {
        "colab_type": "text",
        "id": "si7k3RsgEzhH"
      },
      "source": [
        "### (5) New Comers\n",
        "\n",
        "- New Spenders are new customers that spent a lot of money on their first order(s). This is the kind of customer you want to convert into a loyal, regular customer that loves your products and brand. Be sure to welcome them and thank them for making a first purchase, and follow it up with unique incentives to come back again.\n",
        "- Consider branding the email with a special note from the CEO, and include a survey to ask about their experience"
      ]
    },
    {
      "cell_type": "code",
      "metadata": {
        "colab_type": "code",
        "id": "z7tV5s-59bZj",
        "outputId": "eac293a6-1298-43e5-c2b1-aa86b4f64d6f",
        "colab": {
          "base_uri": "https://localhost:8080/",
          "height": 206
        }
      },
      "source": [
        "rfm_table_copy[rfm_table_copy['RFMscore'] == '141'].sort_values(by='Monetary', ascending=False).head(10)"
      ],
      "execution_count": 51,
      "outputs": [
        {
          "output_type": "execute_result",
          "data": {
            "text/html": [
              "<div>\n",
              "<style scoped>\n",
              "    .dataframe tbody tr th:only-of-type {\n",
              "        vertical-align: middle;\n",
              "    }\n",
              "\n",
              "    .dataframe tbody tr th {\n",
              "        vertical-align: top;\n",
              "    }\n",
              "\n",
              "    .dataframe thead th {\n",
              "        text-align: right;\n",
              "    }\n",
              "</style>\n",
              "<table border=\"1\" class=\"dataframe\">\n",
              "  <thead>\n",
              "    <tr style=\"text-align: right;\">\n",
              "      <th></th>\n",
              "      <th>CustomerID</th>\n",
              "      <th>Recency</th>\n",
              "      <th>Frequency</th>\n",
              "      <th>Monetary</th>\n",
              "      <th>r_quartile</th>\n",
              "      <th>f_quartile</th>\n",
              "      <th>m_quartile</th>\n",
              "      <th>RFMscore</th>\n",
              "      <th>cust_type</th>\n",
              "    </tr>\n",
              "  </thead>\n",
              "  <tbody>\n",
              "    <tr>\n",
              "      <th>2599</th>\n",
              "      <td>16446.0</td>\n",
              "      <td>1</td>\n",
              "      <td>3</td>\n",
              "      <td>168472.5</td>\n",
              "      <td>1</td>\n",
              "      <td>4</td>\n",
              "      <td>1</td>\n",
              "      <td>141</td>\n",
              "      <td>Big_Spenders</td>\n",
              "    </tr>\n",
              "    <tr>\n",
              "      <th>2271</th>\n",
              "      <td>16000.0</td>\n",
              "      <td>3</td>\n",
              "      <td>9</td>\n",
              "      <td>12393.7</td>\n",
              "      <td>1</td>\n",
              "      <td>4</td>\n",
              "      <td>1</td>\n",
              "      <td>141</td>\n",
              "      <td>Big_Spenders</td>\n",
              "    </tr>\n",
              "    <tr>\n",
              "      <th>2662</th>\n",
              "      <td>16532.0</td>\n",
              "      <td>18</td>\n",
              "      <td>4</td>\n",
              "      <td>6748.8</td>\n",
              "      <td>1</td>\n",
              "      <td>4</td>\n",
              "      <td>1</td>\n",
              "      <td>141</td>\n",
              "      <td>Big_Spenders</td>\n",
              "    </tr>\n",
              "    <tr>\n",
              "      <th>1683</th>\n",
              "      <td>15195.0</td>\n",
              "      <td>3</td>\n",
              "      <td>1</td>\n",
              "      <td>3861.0</td>\n",
              "      <td>1</td>\n",
              "      <td>4</td>\n",
              "      <td>1</td>\n",
              "      <td>141</td>\n",
              "      <td>Big_Spenders</td>\n",
              "    </tr>\n",
              "    <tr>\n",
              "      <th>1891</th>\n",
              "      <td>15473.0</td>\n",
              "      <td>14</td>\n",
              "      <td>11</td>\n",
              "      <td>1771.2</td>\n",
              "      <td>1</td>\n",
              "      <td>4</td>\n",
              "      <td>1</td>\n",
              "      <td>141</td>\n",
              "      <td>Big_Spenders</td>\n",
              "    </tr>\n",
              "  </tbody>\n",
              "</table>\n",
              "</div>"
            ],
            "text/plain": [
              "      CustomerID  Recency  Frequency  ...  m_quartile  RFMscore     cust_type\n",
              "2599     16446.0        1          3  ...           1       141  Big_Spenders\n",
              "2271     16000.0        3          9  ...           1       141  Big_Spenders\n",
              "2662     16532.0       18          4  ...           1       141  Big_Spenders\n",
              "1683     15195.0        3          1  ...           1       141  Big_Spenders\n",
              "1891     15473.0       14         11  ...           1       141  Big_Spenders\n",
              "\n",
              "[5 rows x 9 columns]"
            ]
          },
          "metadata": {
            "tags": []
          },
          "execution_count": 51
        }
      ]
    },
    {
      "cell_type": "code",
      "metadata": {
        "colab_type": "code",
        "id": "s4lHaNXDj5ae",
        "outputId": "c5b32077-5f92-4932-c5ca-4c663a976cb6",
        "colab": {
          "base_uri": "https://localhost:8080/",
          "height": 109
        }
      },
      "source": [
        "new_comers = rfm_table_copy[(rfm_table_copy['RFMscore'] == '141') & (rfm_table_copy['cust_type'] == 'Big_Spenders')]\n",
        "rfm_table_copy['cust_type'] [new_comers.index] = 'New_comers'"
      ],
      "execution_count": 52,
      "outputs": [
        {
          "output_type": "stream",
          "text": [
            "/usr/local/lib/python3.6/dist-packages/ipykernel_launcher.py:2: SettingWithCopyWarning: \n",
            "A value is trying to be set on a copy of a slice from a DataFrame\n",
            "\n",
            "See the caveats in the documentation: http://pandas.pydata.org/pandas-docs/stable/indexing.html#indexing-view-versus-copy\n",
            "  \n"
          ],
          "name": "stderr"
        }
      ]
    },
    {
      "cell_type": "markdown",
      "metadata": {
        "colab_type": "text",
        "id": "1Eu42Qp84hQ-"
      },
      "source": [
        "### (6) Lost Customers\n",
        "\n",
        "- Lost Customers used to buy frequently from you, and at one point they spent a lot with you, but they’ve stopped. Now it’s time to win them back.\n",
        "- They might be lost to a competitor; they might not have need of your products anymore, or they might have had a bad customer service experience with you."
      ]
    },
    {
      "cell_type": "code",
      "metadata": {
        "colab_type": "code",
        "id": "ew88VRxa25wj",
        "outputId": "12a50db8-4459-48cf-9169-483a5d6f5ec1",
        "colab": {
          "base_uri": "https://localhost:8080/",
          "height": 363
        }
      },
      "source": [
        "rfm_table_copy[rfm_table_copy['RFMscore'] == '411'].sort_values(by='Monetary', ascending=False).head(10)"
      ],
      "execution_count": 53,
      "outputs": [
        {
          "output_type": "execute_result",
          "data": {
            "text/html": [
              "<div>\n",
              "<style scoped>\n",
              "    .dataframe tbody tr th:only-of-type {\n",
              "        vertical-align: middle;\n",
              "    }\n",
              "\n",
              "    .dataframe tbody tr th {\n",
              "        vertical-align: top;\n",
              "    }\n",
              "\n",
              "    .dataframe thead th {\n",
              "        text-align: right;\n",
              "    }\n",
              "</style>\n",
              "<table border=\"1\" class=\"dataframe\">\n",
              "  <thead>\n",
              "    <tr style=\"text-align: right;\">\n",
              "      <th></th>\n",
              "      <th>CustomerID</th>\n",
              "      <th>Recency</th>\n",
              "      <th>Frequency</th>\n",
              "      <th>Monetary</th>\n",
              "      <th>r_quartile</th>\n",
              "      <th>f_quartile</th>\n",
              "      <th>m_quartile</th>\n",
              "      <th>RFMscore</th>\n",
              "      <th>cust_type</th>\n",
              "    </tr>\n",
              "  </thead>\n",
              "  <tbody>\n",
              "    <tr>\n",
              "      <th>195</th>\n",
              "      <td>13093.0</td>\n",
              "      <td>276</td>\n",
              "      <td>159</td>\n",
              "      <td>7832.470</td>\n",
              "      <td>4</td>\n",
              "      <td>1</td>\n",
              "      <td>1</td>\n",
              "      <td>411</td>\n",
              "      <td>Big_Spenders</td>\n",
              "    </tr>\n",
              "    <tr>\n",
              "      <th>3599</th>\n",
              "      <td>17850.0</td>\n",
              "      <td>372</td>\n",
              "      <td>297</td>\n",
              "      <td>5391.210</td>\n",
              "      <td>4</td>\n",
              "      <td>1</td>\n",
              "      <td>1</td>\n",
              "      <td>411</td>\n",
              "      <td>Big_Spenders</td>\n",
              "    </tr>\n",
              "    <tr>\n",
              "      <th>2139</th>\n",
              "      <td>15808.0</td>\n",
              "      <td>306</td>\n",
              "      <td>208</td>\n",
              "      <td>3734.970</td>\n",
              "      <td>4</td>\n",
              "      <td>1</td>\n",
              "      <td>1</td>\n",
              "      <td>411</td>\n",
              "      <td>Big_Spenders</td>\n",
              "    </tr>\n",
              "    <tr>\n",
              "      <th>1820</th>\n",
              "      <td>15379.0</td>\n",
              "      <td>169</td>\n",
              "      <td>194</td>\n",
              "      <td>3703.290</td>\n",
              "      <td>4</td>\n",
              "      <td>1</td>\n",
              "      <td>1</td>\n",
              "      <td>411</td>\n",
              "      <td>Big_Spenders</td>\n",
              "    </tr>\n",
              "    <tr>\n",
              "      <th>800</th>\n",
              "      <td>13952.0</td>\n",
              "      <td>218</td>\n",
              "      <td>137</td>\n",
              "      <td>3251.071</td>\n",
              "      <td>4</td>\n",
              "      <td>1</td>\n",
              "      <td>1</td>\n",
              "      <td>411</td>\n",
              "      <td>Big_Spenders</td>\n",
              "    </tr>\n",
              "    <tr>\n",
              "      <th>3351</th>\n",
              "      <td>17504.0</td>\n",
              "      <td>206</td>\n",
              "      <td>127</td>\n",
              "      <td>2997.030</td>\n",
              "      <td>4</td>\n",
              "      <td>1</td>\n",
              "      <td>1</td>\n",
              "      <td>411</td>\n",
              "      <td>Big_Spenders</td>\n",
              "    </tr>\n",
              "    <tr>\n",
              "      <th>22</th>\n",
              "      <td>12840.0</td>\n",
              "      <td>144</td>\n",
              "      <td>113</td>\n",
              "      <td>2726.770</td>\n",
              "      <td>4</td>\n",
              "      <td>1</td>\n",
              "      <td>1</td>\n",
              "      <td>411</td>\n",
              "      <td>Big_Spenders</td>\n",
              "    </tr>\n",
              "    <tr>\n",
              "      <th>3902</th>\n",
              "      <td>18260.0</td>\n",
              "      <td>173</td>\n",
              "      <td>134</td>\n",
              "      <td>2643.200</td>\n",
              "      <td>4</td>\n",
              "      <td>1</td>\n",
              "      <td>1</td>\n",
              "      <td>411</td>\n",
              "      <td>Big_Spenders</td>\n",
              "    </tr>\n",
              "    <tr>\n",
              "      <th>2946</th>\n",
              "      <td>16919.0</td>\n",
              "      <td>156</td>\n",
              "      <td>327</td>\n",
              "      <td>2596.450</td>\n",
              "      <td>4</td>\n",
              "      <td>1</td>\n",
              "      <td>1</td>\n",
              "      <td>411</td>\n",
              "      <td>Big_Spenders</td>\n",
              "    </tr>\n",
              "    <tr>\n",
              "      <th>1714</th>\n",
              "      <td>15235.0</td>\n",
              "      <td>218</td>\n",
              "      <td>143</td>\n",
              "      <td>2247.510</td>\n",
              "      <td>4</td>\n",
              "      <td>1</td>\n",
              "      <td>1</td>\n",
              "      <td>411</td>\n",
              "      <td>Big_Spenders</td>\n",
              "    </tr>\n",
              "  </tbody>\n",
              "</table>\n",
              "</div>"
            ],
            "text/plain": [
              "      CustomerID  Recency  Frequency  ...  m_quartile  RFMscore     cust_type\n",
              "195      13093.0      276        159  ...           1       411  Big_Spenders\n",
              "3599     17850.0      372        297  ...           1       411  Big_Spenders\n",
              "2139     15808.0      306        208  ...           1       411  Big_Spenders\n",
              "1820     15379.0      169        194  ...           1       411  Big_Spenders\n",
              "800      13952.0      218        137  ...           1       411  Big_Spenders\n",
              "3351     17504.0      206        127  ...           1       411  Big_Spenders\n",
              "22       12840.0      144        113  ...           1       411  Big_Spenders\n",
              "3902     18260.0      173        134  ...           1       411  Big_Spenders\n",
              "2946     16919.0      156        327  ...           1       411  Big_Spenders\n",
              "1714     15235.0      218        143  ...           1       411  Big_Spenders\n",
              "\n",
              "[10 rows x 9 columns]"
            ]
          },
          "metadata": {
            "tags": []
          },
          "execution_count": 53
        }
      ]
    },
    {
      "cell_type": "code",
      "metadata": {
        "colab_type": "code",
        "id": "AlXMRK3j4mMi",
        "outputId": "7443e4ce-a832-4e9e-d91e-7d05786a15f1",
        "colab": {
          "base_uri": "https://localhost:8080/",
          "height": 109
        }
      },
      "source": [
        "lost_cust = rfm_table_copy[(rfm_table_copy['RFMscore'] == '411') & (rfm_table_copy['cust_type'] == 'Big_Spenders')]\n",
        "rfm_table_copy['cust_type'] [lost_cust.index] = 'Lost_cust'"
      ],
      "execution_count": 54,
      "outputs": [
        {
          "output_type": "stream",
          "text": [
            "/usr/local/lib/python3.6/dist-packages/ipykernel_launcher.py:2: SettingWithCopyWarning: \n",
            "A value is trying to be set on a copy of a slice from a DataFrame\n",
            "\n",
            "See the caveats in the documentation: http://pandas.pydata.org/pandas-docs/stable/indexing.html#indexing-view-versus-copy\n",
            "  \n"
          ],
          "name": "stderr"
        }
      ]
    },
    {
      "cell_type": "markdown",
      "metadata": {
        "colab_type": "text",
        "id": "ksBzqDqa48s2"
      },
      "source": [
        "### (7) Almost Lost Customers\n",
        "\n",
        "- It has just been less time since they purchased. These customers might warrant more aggressive discounts so that you can win them back before it’s too late.\n",
        "- It is much less expensive it is to keep customers compared to winning new ones"
      ]
    },
    {
      "cell_type": "code",
      "metadata": {
        "colab_type": "code",
        "id": "gC21ol_m46OX",
        "outputId": "63121df4-02c6-4980-bd50-c955db2784ca",
        "colab": {
          "base_uri": "https://localhost:8080/",
          "height": 363
        }
      },
      "source": [
        "rfm_table_copy[rfm_table_copy['RFMscore'] == '311'].sort_values(by='Monetary', ascending=False).head(10)"
      ],
      "execution_count": 55,
      "outputs": [
        {
          "output_type": "execute_result",
          "data": {
            "text/html": [
              "<div>\n",
              "<style scoped>\n",
              "    .dataframe tbody tr th:only-of-type {\n",
              "        vertical-align: middle;\n",
              "    }\n",
              "\n",
              "    .dataframe tbody tr th {\n",
              "        vertical-align: top;\n",
              "    }\n",
              "\n",
              "    .dataframe thead th {\n",
              "        text-align: right;\n",
              "    }\n",
              "</style>\n",
              "<table border=\"1\" class=\"dataframe\">\n",
              "  <thead>\n",
              "    <tr style=\"text-align: right;\">\n",
              "      <th></th>\n",
              "      <th>CustomerID</th>\n",
              "      <th>Recency</th>\n",
              "      <th>Frequency</th>\n",
              "      <th>Monetary</th>\n",
              "      <th>r_quartile</th>\n",
              "      <th>f_quartile</th>\n",
              "      <th>m_quartile</th>\n",
              "      <th>RFMscore</th>\n",
              "      <th>cust_type</th>\n",
              "    </tr>\n",
              "  </thead>\n",
              "  <tbody>\n",
              "    <tr>\n",
              "      <th>2407</th>\n",
              "      <td>16180.0</td>\n",
              "      <td>100</td>\n",
              "      <td>162</td>\n",
              "      <td>10254.18</td>\n",
              "      <td>3</td>\n",
              "      <td>1</td>\n",
              "      <td>1</td>\n",
              "      <td>311</td>\n",
              "      <td>Big_Spenders</td>\n",
              "    </tr>\n",
              "    <tr>\n",
              "      <th>1500</th>\n",
              "      <td>14952.0</td>\n",
              "      <td>60</td>\n",
              "      <td>138</td>\n",
              "      <td>8099.49</td>\n",
              "      <td>3</td>\n",
              "      <td>1</td>\n",
              "      <td>1</td>\n",
              "      <td>311</td>\n",
              "      <td>Big_Spenders</td>\n",
              "    </tr>\n",
              "    <tr>\n",
              "      <th>2813</th>\n",
              "      <td>16745.0</td>\n",
              "      <td>87</td>\n",
              "      <td>357</td>\n",
              "      <td>7194.30</td>\n",
              "      <td>3</td>\n",
              "      <td>1</td>\n",
              "      <td>1</td>\n",
              "      <td>311</td>\n",
              "      <td>Big_Spenders</td>\n",
              "    </tr>\n",
              "    <tr>\n",
              "      <th>2743</th>\n",
              "      <td>16652.0</td>\n",
              "      <td>59</td>\n",
              "      <td>118</td>\n",
              "      <td>6773.97</td>\n",
              "      <td>3</td>\n",
              "      <td>1</td>\n",
              "      <td>1</td>\n",
              "      <td>311</td>\n",
              "      <td>Big_Spenders</td>\n",
              "    </tr>\n",
              "    <tr>\n",
              "      <th>3355</th>\n",
              "      <td>17509.0</td>\n",
              "      <td>58</td>\n",
              "      <td>366</td>\n",
              "      <td>6115.14</td>\n",
              "      <td>3</td>\n",
              "      <td>1</td>\n",
              "      <td>1</td>\n",
              "      <td>311</td>\n",
              "      <td>Big_Spenders</td>\n",
              "    </tr>\n",
              "    <tr>\n",
              "      <th>2992</th>\n",
              "      <td>16984.0</td>\n",
              "      <td>88</td>\n",
              "      <td>407</td>\n",
              "      <td>4481.35</td>\n",
              "      <td>3</td>\n",
              "      <td>1</td>\n",
              "      <td>1</td>\n",
              "      <td>311</td>\n",
              "      <td>Big_Spenders</td>\n",
              "    </tr>\n",
              "    <tr>\n",
              "      <th>2190</th>\n",
              "      <td>15874.0</td>\n",
              "      <td>64</td>\n",
              "      <td>120</td>\n",
              "      <td>4405.88</td>\n",
              "      <td>3</td>\n",
              "      <td>1</td>\n",
              "      <td>1</td>\n",
              "      <td>311</td>\n",
              "      <td>Big_Spenders</td>\n",
              "    </tr>\n",
              "    <tr>\n",
              "      <th>526</th>\n",
              "      <td>13555.0</td>\n",
              "      <td>74</td>\n",
              "      <td>136</td>\n",
              "      <td>4149.28</td>\n",
              "      <td>3</td>\n",
              "      <td>1</td>\n",
              "      <td>1</td>\n",
              "      <td>311</td>\n",
              "      <td>Big_Spenders</td>\n",
              "    </tr>\n",
              "    <tr>\n",
              "      <th>1847</th>\n",
              "      <td>15416.0</td>\n",
              "      <td>65</td>\n",
              "      <td>192</td>\n",
              "      <td>3984.32</td>\n",
              "      <td>3</td>\n",
              "      <td>1</td>\n",
              "      <td>1</td>\n",
              "      <td>311</td>\n",
              "      <td>Big_Spenders</td>\n",
              "    </tr>\n",
              "    <tr>\n",
              "      <th>218</th>\n",
              "      <td>13124.0</td>\n",
              "      <td>90</td>\n",
              "      <td>235</td>\n",
              "      <td>3866.33</td>\n",
              "      <td>3</td>\n",
              "      <td>1</td>\n",
              "      <td>1</td>\n",
              "      <td>311</td>\n",
              "      <td>Big_Spenders</td>\n",
              "    </tr>\n",
              "  </tbody>\n",
              "</table>\n",
              "</div>"
            ],
            "text/plain": [
              "      CustomerID  Recency  Frequency  ...  m_quartile  RFMscore     cust_type\n",
              "2407     16180.0      100        162  ...           1       311  Big_Spenders\n",
              "1500     14952.0       60        138  ...           1       311  Big_Spenders\n",
              "2813     16745.0       87        357  ...           1       311  Big_Spenders\n",
              "2743     16652.0       59        118  ...           1       311  Big_Spenders\n",
              "3355     17509.0       58        366  ...           1       311  Big_Spenders\n",
              "2992     16984.0       88        407  ...           1       311  Big_Spenders\n",
              "2190     15874.0       64        120  ...           1       311  Big_Spenders\n",
              "526      13555.0       74        136  ...           1       311  Big_Spenders\n",
              "1847     15416.0       65        192  ...           1       311  Big_Spenders\n",
              "218      13124.0       90        235  ...           1       311  Big_Spenders\n",
              "\n",
              "[10 rows x 9 columns]"
            ]
          },
          "metadata": {
            "tags": []
          },
          "execution_count": 55
        }
      ]
    },
    {
      "cell_type": "code",
      "metadata": {
        "colab_type": "code",
        "id": "JuINl5ow51Tz",
        "outputId": "1921b171-a95e-40f5-9dec-dbc7f8b02ef6",
        "colab": {
          "base_uri": "https://localhost:8080/",
          "height": 109
        }
      },
      "source": [
        "almost_lost_cust = rfm_table_copy[(rfm_table_copy['RFMscore'] == '311') & (rfm_table_copy['cust_type'] == 'Big_Spenders')]\n",
        "rfm_table_copy['cust_type'] [almost_lost_cust.index] = 'Almost_lost_cust'"
      ],
      "execution_count": 56,
      "outputs": [
        {
          "output_type": "stream",
          "text": [
            "/usr/local/lib/python3.6/dist-packages/ipykernel_launcher.py:2: SettingWithCopyWarning: \n",
            "A value is trying to be set on a copy of a slice from a DataFrame\n",
            "\n",
            "See the caveats in the documentation: http://pandas.pydata.org/pandas-docs/stable/indexing.html#indexing-view-versus-copy\n",
            "  \n"
          ],
          "name": "stderr"
        }
      ]
    },
    {
      "cell_type": "markdown",
      "metadata": {
        "colab_type": "text",
        "id": "efrV-l7WPxcD"
      },
      "source": [
        "### (8) Splurgers\n",
        "\n",
        "- Splurgers combine a high Monetary Value with a low Frequency, which means they’ve spent a lot of money in just a few orders. Because they have the wealth and willingness to spend a lot with you, target high priced products with good margins at this group. \n",
        "- This group might also correspond with seasonal events or even just the typical buying cycle of your product’s wear."
      ]
    },
    {
      "cell_type": "code",
      "metadata": {
        "colab_type": "code",
        "id": "4B6zxS946ENt",
        "outputId": "260bfa94-16bc-44c3-8e62-ad7890fa60ee",
        "colab": {
          "base_uri": "https://localhost:8080/",
          "height": 363
        }
      },
      "source": [
        "rfm_table_copy[(rfm_table_copy['f_quartile'] == 4) & (rfm_table_copy['m_quartile'] == 1)].head(10)"
      ],
      "execution_count": 57,
      "outputs": [
        {
          "output_type": "execute_result",
          "data": {
            "text/html": [
              "<div>\n",
              "<style scoped>\n",
              "    .dataframe tbody tr th:only-of-type {\n",
              "        vertical-align: middle;\n",
              "    }\n",
              "\n",
              "    .dataframe tbody tr th {\n",
              "        vertical-align: top;\n",
              "    }\n",
              "\n",
              "    .dataframe thead th {\n",
              "        text-align: right;\n",
              "    }\n",
              "</style>\n",
              "<table border=\"1\" class=\"dataframe\">\n",
              "  <thead>\n",
              "    <tr style=\"text-align: right;\">\n",
              "      <th></th>\n",
              "      <th>CustomerID</th>\n",
              "      <th>Recency</th>\n",
              "      <th>Frequency</th>\n",
              "      <th>Monetary</th>\n",
              "      <th>r_quartile</th>\n",
              "      <th>f_quartile</th>\n",
              "      <th>m_quartile</th>\n",
              "      <th>RFMscore</th>\n",
              "      <th>cust_type</th>\n",
              "    </tr>\n",
              "  </thead>\n",
              "  <tbody>\n",
              "    <tr>\n",
              "      <th>0</th>\n",
              "      <td>12346.0</td>\n",
              "      <td>326</td>\n",
              "      <td>1</td>\n",
              "      <td>77183.60</td>\n",
              "      <td>4</td>\n",
              "      <td>4</td>\n",
              "      <td>1</td>\n",
              "      <td>441</td>\n",
              "      <td>Big_Spenders</td>\n",
              "    </tr>\n",
              "    <tr>\n",
              "      <th>7</th>\n",
              "      <td>12823.0</td>\n",
              "      <td>75</td>\n",
              "      <td>5</td>\n",
              "      <td>1759.50</td>\n",
              "      <td>3</td>\n",
              "      <td>4</td>\n",
              "      <td>1</td>\n",
              "      <td>341</td>\n",
              "      <td>Big_Spenders</td>\n",
              "    </tr>\n",
              "    <tr>\n",
              "      <th>226</th>\n",
              "      <td>13135.0</td>\n",
              "      <td>197</td>\n",
              "      <td>1</td>\n",
              "      <td>3096.00</td>\n",
              "      <td>4</td>\n",
              "      <td>4</td>\n",
              "      <td>1</td>\n",
              "      <td>441</td>\n",
              "      <td>Big_Spenders</td>\n",
              "    </tr>\n",
              "    <tr>\n",
              "      <th>578</th>\n",
              "      <td>13631.0</td>\n",
              "      <td>100</td>\n",
              "      <td>11</td>\n",
              "      <td>3070.42</td>\n",
              "      <td>3</td>\n",
              "      <td>4</td>\n",
              "      <td>1</td>\n",
              "      <td>341</td>\n",
              "      <td>Big_Spenders</td>\n",
              "    </tr>\n",
              "    <tr>\n",
              "      <th>676</th>\n",
              "      <td>13763.0</td>\n",
              "      <td>63</td>\n",
              "      <td>15</td>\n",
              "      <td>1714.96</td>\n",
              "      <td>3</td>\n",
              "      <td>4</td>\n",
              "      <td>1</td>\n",
              "      <td>341</td>\n",
              "      <td>Big_Spenders</td>\n",
              "    </tr>\n",
              "    <tr>\n",
              "      <th>865</th>\n",
              "      <td>14045.0</td>\n",
              "      <td>109</td>\n",
              "      <td>6</td>\n",
              "      <td>1659.75</td>\n",
              "      <td>3</td>\n",
              "      <td>4</td>\n",
              "      <td>1</td>\n",
              "      <td>341</td>\n",
              "      <td>Big_Spenders</td>\n",
              "    </tr>\n",
              "    <tr>\n",
              "      <th>938</th>\n",
              "      <td>14145.0</td>\n",
              "      <td>47</td>\n",
              "      <td>11</td>\n",
              "      <td>3742.20</td>\n",
              "      <td>2</td>\n",
              "      <td>4</td>\n",
              "      <td>1</td>\n",
              "      <td>241</td>\n",
              "      <td>Big_Spenders</td>\n",
              "    </tr>\n",
              "    <tr>\n",
              "      <th>1425</th>\n",
              "      <td>14828.0</td>\n",
              "      <td>197</td>\n",
              "      <td>17</td>\n",
              "      <td>2139.76</td>\n",
              "      <td>4</td>\n",
              "      <td>4</td>\n",
              "      <td>1</td>\n",
              "      <td>441</td>\n",
              "      <td>Big_Spenders</td>\n",
              "    </tr>\n",
              "    <tr>\n",
              "      <th>1466</th>\n",
              "      <td>14887.0</td>\n",
              "      <td>79</td>\n",
              "      <td>6</td>\n",
              "      <td>1862.00</td>\n",
              "      <td>3</td>\n",
              "      <td>4</td>\n",
              "      <td>1</td>\n",
              "      <td>341</td>\n",
              "      <td>Big_Spenders</td>\n",
              "    </tr>\n",
              "    <tr>\n",
              "      <th>1608</th>\n",
              "      <td>15098.0</td>\n",
              "      <td>182</td>\n",
              "      <td>3</td>\n",
              "      <td>39916.50</td>\n",
              "      <td>4</td>\n",
              "      <td>4</td>\n",
              "      <td>1</td>\n",
              "      <td>441</td>\n",
              "      <td>Big_Spenders</td>\n",
              "    </tr>\n",
              "  </tbody>\n",
              "</table>\n",
              "</div>"
            ],
            "text/plain": [
              "      CustomerID  Recency  Frequency  ...  m_quartile  RFMscore     cust_type\n",
              "0        12346.0      326          1  ...           1       441  Big_Spenders\n",
              "7        12823.0       75          5  ...           1       341  Big_Spenders\n",
              "226      13135.0      197          1  ...           1       441  Big_Spenders\n",
              "578      13631.0      100         11  ...           1       341  Big_Spenders\n",
              "676      13763.0       63         15  ...           1       341  Big_Spenders\n",
              "865      14045.0      109          6  ...           1       341  Big_Spenders\n",
              "938      14145.0       47         11  ...           1       241  Big_Spenders\n",
              "1425     14828.0      197         17  ...           1       441  Big_Spenders\n",
              "1466     14887.0       79          6  ...           1       341  Big_Spenders\n",
              "1608     15098.0      182          3  ...           1       441  Big_Spenders\n",
              "\n",
              "[10 rows x 9 columns]"
            ]
          },
          "metadata": {
            "tags": []
          },
          "execution_count": 57
        }
      ]
    },
    {
      "cell_type": "code",
      "metadata": {
        "colab_type": "code",
        "id": "DA389uR6SJ6N",
        "outputId": "490983ae-4606-4b8d-9c1c-4f5ad78aaec0",
        "colab": {
          "base_uri": "https://localhost:8080/",
          "height": 109
        }
      },
      "source": [
        "splurgers = rfm_table_copy[(rfm_table_copy['RFMscore'].apply(lambda x : x[-2:] == '41')) & (rfm_table_copy['cust_type'] == 'Big_Spenders')]\n",
        "rfm_table_copy['cust_type'] [splurgers.index] = 'Splurgers'"
      ],
      "execution_count": 58,
      "outputs": [
        {
          "output_type": "stream",
          "text": [
            "/usr/local/lib/python3.6/dist-packages/ipykernel_launcher.py:2: SettingWithCopyWarning: \n",
            "A value is trying to be set on a copy of a slice from a DataFrame\n",
            "\n",
            "See the caveats in the documentation: http://pandas.pydata.org/pandas-docs/stable/indexing.html#indexing-view-versus-copy\n",
            "  \n"
          ],
          "name": "stderr"
        }
      ]
    },
    {
      "cell_type": "markdown",
      "metadata": {
        "colab_type": "text",
        "id": "fzGzCqUCTGGW"
      },
      "source": [
        "### (10) Deadbeats\n",
        "\n",
        "- These customers spent very little, bought very few times, and last ordered quite a while ago. They are unlikely to be worth much time, so put them in your general house list and consider a re-opt-in campaign."
      ]
    },
    {
      "cell_type": "code",
      "metadata": {
        "colab_type": "code",
        "id": "-xJEyHKnS8Qd",
        "outputId": "00bdb070-33b1-4ec5-a996-dc97d1c3c363",
        "colab": {
          "base_uri": "https://localhost:8080/",
          "height": 363
        }
      },
      "source": [
        "rfm_table_copy[rfm_table_copy['RFMscore'] == '444'].sort_values(by='Monetary', ascending=False).head(10)"
      ],
      "execution_count": 59,
      "outputs": [
        {
          "output_type": "execute_result",
          "data": {
            "text/html": [
              "<div>\n",
              "<style scoped>\n",
              "    .dataframe tbody tr th:only-of-type {\n",
              "        vertical-align: middle;\n",
              "    }\n",
              "\n",
              "    .dataframe tbody tr th {\n",
              "        vertical-align: top;\n",
              "    }\n",
              "\n",
              "    .dataframe thead th {\n",
              "        text-align: right;\n",
              "    }\n",
              "</style>\n",
              "<table border=\"1\" class=\"dataframe\">\n",
              "  <thead>\n",
              "    <tr style=\"text-align: right;\">\n",
              "      <th></th>\n",
              "      <th>CustomerID</th>\n",
              "      <th>Recency</th>\n",
              "      <th>Frequency</th>\n",
              "      <th>Monetary</th>\n",
              "      <th>r_quartile</th>\n",
              "      <th>f_quartile</th>\n",
              "      <th>m_quartile</th>\n",
              "      <th>RFMscore</th>\n",
              "      <th>cust_type</th>\n",
              "    </tr>\n",
              "  </thead>\n",
              "  <tbody>\n",
              "    <tr>\n",
              "      <th>1991</th>\n",
              "      <td>15609.0</td>\n",
              "      <td>184</td>\n",
              "      <td>16</td>\n",
              "      <td>298.48</td>\n",
              "      <td>4</td>\n",
              "      <td>4</td>\n",
              "      <td>4</td>\n",
              "      <td>444</td>\n",
              "      <td>NA</td>\n",
              "    </tr>\n",
              "    <tr>\n",
              "      <th>3483</th>\n",
              "      <td>17678.0</td>\n",
              "      <td>264</td>\n",
              "      <td>16</td>\n",
              "      <td>298.11</td>\n",
              "      <td>4</td>\n",
              "      <td>4</td>\n",
              "      <td>4</td>\n",
              "      <td>444</td>\n",
              "      <td>NA</td>\n",
              "    </tr>\n",
              "    <tr>\n",
              "      <th>48</th>\n",
              "      <td>12881.0</td>\n",
              "      <td>276</td>\n",
              "      <td>7</td>\n",
              "      <td>298.00</td>\n",
              "      <td>4</td>\n",
              "      <td>4</td>\n",
              "      <td>4</td>\n",
              "      <td>444</td>\n",
              "      <td>NA</td>\n",
              "    </tr>\n",
              "    <tr>\n",
              "      <th>3375</th>\n",
              "      <td>17531.0</td>\n",
              "      <td>190</td>\n",
              "      <td>14</td>\n",
              "      <td>296.70</td>\n",
              "      <td>4</td>\n",
              "      <td>4</td>\n",
              "      <td>4</td>\n",
              "      <td>444</td>\n",
              "      <td>NA</td>\n",
              "    </tr>\n",
              "    <tr>\n",
              "      <th>665</th>\n",
              "      <td>13751.0</td>\n",
              "      <td>288</td>\n",
              "      <td>9</td>\n",
              "      <td>296.25</td>\n",
              "      <td>4</td>\n",
              "      <td>4</td>\n",
              "      <td>4</td>\n",
              "      <td>444</td>\n",
              "      <td>NA</td>\n",
              "    </tr>\n",
              "    <tr>\n",
              "      <th>3002</th>\n",
              "      <td>16998.0</td>\n",
              "      <td>150</td>\n",
              "      <td>4</td>\n",
              "      <td>295.00</td>\n",
              "      <td>4</td>\n",
              "      <td>4</td>\n",
              "      <td>4</td>\n",
              "      <td>444</td>\n",
              "      <td>NA</td>\n",
              "    </tr>\n",
              "    <tr>\n",
              "      <th>2082</th>\n",
              "      <td>15732.0</td>\n",
              "      <td>212</td>\n",
              "      <td>14</td>\n",
              "      <td>294.12</td>\n",
              "      <td>4</td>\n",
              "      <td>4</td>\n",
              "      <td>4</td>\n",
              "      <td>444</td>\n",
              "      <td>NA</td>\n",
              "    </tr>\n",
              "    <tr>\n",
              "      <th>12</th>\n",
              "      <td>12829.0</td>\n",
              "      <td>337</td>\n",
              "      <td>11</td>\n",
              "      <td>293.00</td>\n",
              "      <td>4</td>\n",
              "      <td>4</td>\n",
              "      <td>4</td>\n",
              "      <td>444</td>\n",
              "      <td>NA</td>\n",
              "    </tr>\n",
              "    <tr>\n",
              "      <th>2657</th>\n",
              "      <td>16526.0</td>\n",
              "      <td>172</td>\n",
              "      <td>15</td>\n",
              "      <td>290.36</td>\n",
              "      <td>4</td>\n",
              "      <td>4</td>\n",
              "      <td>4</td>\n",
              "      <td>444</td>\n",
              "      <td>NA</td>\n",
              "    </tr>\n",
              "    <tr>\n",
              "      <th>3328</th>\n",
              "      <td>17464.0</td>\n",
              "      <td>158</td>\n",
              "      <td>9</td>\n",
              "      <td>289.96</td>\n",
              "      <td>4</td>\n",
              "      <td>4</td>\n",
              "      <td>4</td>\n",
              "      <td>444</td>\n",
              "      <td>NA</td>\n",
              "    </tr>\n",
              "  </tbody>\n",
              "</table>\n",
              "</div>"
            ],
            "text/plain": [
              "      CustomerID  Recency  Frequency  ...  m_quartile  RFMscore  cust_type\n",
              "1991     15609.0      184         16  ...           4       444         NA\n",
              "3483     17678.0      264         16  ...           4       444         NA\n",
              "48       12881.0      276          7  ...           4       444         NA\n",
              "3375     17531.0      190         14  ...           4       444         NA\n",
              "665      13751.0      288          9  ...           4       444         NA\n",
              "3002     16998.0      150          4  ...           4       444         NA\n",
              "2082     15732.0      212         14  ...           4       444         NA\n",
              "12       12829.0      337         11  ...           4       444         NA\n",
              "2657     16526.0      172         15  ...           4       444         NA\n",
              "3328     17464.0      158          9  ...           4       444         NA\n",
              "\n",
              "[10 rows x 9 columns]"
            ]
          },
          "metadata": {
            "tags": []
          },
          "execution_count": 59
        }
      ]
    },
    {
      "cell_type": "code",
      "metadata": {
        "colab_type": "code",
        "id": "ERN05bGxS7sX",
        "outputId": "41f9a6db-9eab-43b4-947e-6bba48772548",
        "scrolled": true,
        "colab": {
          "base_uri": "https://localhost:8080/",
          "height": 109
        }
      },
      "source": [
        "deadbeats = rfm_table_copy[rfm_table_copy['RFMscore'] == '444']\n",
        "rfm_table_copy['cust_type'][deadbeats.index] = 'Deadbeats'"
      ],
      "execution_count": 60,
      "outputs": [
        {
          "output_type": "stream",
          "text": [
            "/usr/local/lib/python3.6/dist-packages/ipykernel_launcher.py:2: SettingWithCopyWarning: \n",
            "A value is trying to be set on a copy of a slice from a DataFrame\n",
            "\n",
            "See the caveats in the documentation: http://pandas.pydata.org/pandas-docs/stable/indexing.html#indexing-view-versus-copy\n",
            "  \n"
          ],
          "name": "stderr"
        }
      ]
    },
    {
      "cell_type": "code",
      "metadata": {
        "colab_type": "code",
        "id": "weFvDZ6Zf1ZI",
        "colab": {}
      },
      "source": [
        "#replacing NA wit Other\n",
        "\n",
        "rfm_table_copy['cust_type'].replace('NA', 'Other', inplace=True)"
      ],
      "execution_count": 0,
      "outputs": []
    },
    {
      "cell_type": "markdown",
      "metadata": {
        "id": "Rpn2w1FKLIXK",
        "colab_type": "text"
      },
      "source": [
        "### Viz. depicting Count of different customers & their impact on Monetary value"
      ]
    },
    {
      "cell_type": "code",
      "metadata": {
        "colab_type": "code",
        "id": "VnHRZHKLUPn-",
        "outputId": "7205770b-d57c-48b9-df30-0c8272b0d475",
        "colab": {
          "base_uri": "https://localhost:8080/",
          "height": 937
        }
      },
      "source": [
        "sns.set_context('notebook')\n",
        "plt.subplots_adjust(wspace=0.5, hspace=0.5)\n",
        "plt.figure(figsize=(15,15))\n",
        "\n",
        "plt.subplot(2,1,1)\n",
        "sns.countplot(rfm_table_copy['cust_type'], palette='inferno')\n",
        "plt.xticks(rotation=0)\n",
        "plt.title('Customer Types')\n",
        "\n",
        "plt.subplot(2,1,2)\n",
        "sns.swarmplot(rfm_table_copy['cust_type'], rfm_table_copy['Monetary'], palette='inferno')\n",
        "plt.xticks(rotation=0)\n",
        "plt.title('Impact of Customer Types on Monetary')"
      ],
      "execution_count": 62,
      "outputs": [
        {
          "output_type": "execute_result",
          "data": {
            "text/plain": [
              "Text(0.5, 1.0, 'Impact of Customer Types on Monetary')"
            ]
          },
          "metadata": {
            "tags": []
          },
          "execution_count": 62
        },
        {
          "output_type": "display_data",
          "data": {
            "text/plain": [
              "<Figure size 432x288 with 0 Axes>"
            ]
          },
          "metadata": {
            "tags": []
          }
        },
        {
          "output_type": "display_data",
          "data": {
            "image/png": "[encoded data removed]",
            "text/plain": [
              "<Figure size 1080x1080 with 2 Axes>"
            ]
          },
          "metadata": {
            "tags": []
          }
        }
      ]
    },
    {
      "cell_type": "markdown",
      "metadata": {
        "id": "65Qf3zNqLIXP",
        "colab_type": "text"
      },
      "source": [
        "- We can see that \"others\" contribute more to the our grouping.\n",
        "- While, Best Customers and Big spenders are having huge impact on Monetary value. "
      ]
    },
    {
      "cell_type": "markdown",
      "metadata": {
        "colab_type": "text",
        "id": "En-SYsbosok7"
      },
      "source": [
        "### TreeMap"
      ]
    },
    {
      "cell_type": "code",
      "metadata": {
        "colab_type": "code",
        "id": "oVthSYbMqEB0",
        "outputId": "03f3ddf1-4b96-4e4b-ec14-4ef7c3f63017",
        "colab": {
          "base_uri": "https://localhost:8080/",
          "height": 91
        }
      },
      "source": [
        "#installing squarify\n",
        "\n",
        "!pip install squarify"
      ],
      "execution_count": 63,
      "outputs": [
        {
          "output_type": "stream",
          "text": [
            "Collecting squarify\n",
            "  Downloading https://files.pythonhosted.org/packages/0b/2b/2e77c35326efec19819cd1d729540d4d235e6c2a3f37658288a363a67da5/squarify-0.4.3-py3-none-any.whl\n",
            "Installing collected packages: squarify\n",
            "Successfully installed squarify-0.4.3\n"
          ],
          "name": "stdout"
        }
      ]
    },
    {
      "cell_type": "code",
      "metadata": {
        "colab_type": "code",
        "id": "ucsjtgMbUYAZ",
        "outputId": "0e051ccd-d9ff-4b7c-d797-bf79240a6c1f",
        "colab": {
          "base_uri": "https://localhost:8080/",
          "height": 35
        }
      },
      "source": [
        "import squarify\n",
        "\n",
        "plt.figure(figsize = (10,30))\n",
        "regions = rfm_table_copy['cust_type'].value_counts().to_frame()\n",
        "regions['count_val']=regions.values\n",
        "regions['percent']=regions['count_val']/(regions.values.sum())*100"
      ],
      "execution_count": 64,
      "outputs": [
        {
          "output_type": "display_data",
          "data": {
            "text/plain": [
              "<Figure size 720x2160 with 0 Axes>"
            ]
          },
          "metadata": {
            "tags": []
          }
        }
      ]
    },
    {
      "cell_type": "code",
      "metadata": {
        "colab_type": "code",
        "id": "1Wt4YwC4prqO",
        "outputId": "bad51ed9-1dc4-4bf9-b242-f5f955ee8ad4",
        "colab": {
          "base_uri": "https://localhost:8080/",
          "height": 363
        }
      },
      "source": [
        "#print % region\n",
        "\n",
        "regions"
      ],
      "execution_count": 65,
      "outputs": [
        {
          "output_type": "execute_result",
          "data": {
            "text/html": [
              "<div>\n",
              "<style scoped>\n",
              "    .dataframe tbody tr th:only-of-type {\n",
              "        vertical-align: middle;\n",
              "    }\n",
              "\n",
              "    .dataframe tbody tr th {\n",
              "        vertical-align: top;\n",
              "    }\n",
              "\n",
              "    .dataframe thead th {\n",
              "        text-align: right;\n",
              "    }\n",
              "</style>\n",
              "<table border=\"1\" class=\"dataframe\">\n",
              "  <thead>\n",
              "    <tr style=\"text-align: right;\">\n",
              "      <th></th>\n",
              "      <th>cust_type</th>\n",
              "      <th>count_val</th>\n",
              "      <th>percent</th>\n",
              "    </tr>\n",
              "  </thead>\n",
              "  <tbody>\n",
              "    <tr>\n",
              "      <th>Other</th>\n",
              "      <td>2326</td>\n",
              "      <td>2326</td>\n",
              "      <td>29.660801</td>\n",
              "    </tr>\n",
              "    <tr>\n",
              "      <th>Big_Spenders</th>\n",
              "      <td>419</td>\n",
              "      <td>419</td>\n",
              "      <td>5.343025</td>\n",
              "    </tr>\n",
              "    <tr>\n",
              "      <th>Best_Cust</th>\n",
              "      <td>416</td>\n",
              "      <td>416</td>\n",
              "      <td>5.304769</td>\n",
              "    </tr>\n",
              "    <tr>\n",
              "      <th>Deadbeats</th>\n",
              "      <td>342</td>\n",
              "      <td>342</td>\n",
              "      <td>4.361132</td>\n",
              "    </tr>\n",
              "    <tr>\n",
              "      <th>Loyal_Cust</th>\n",
              "      <td>272</td>\n",
              "      <td>272</td>\n",
              "      <td>3.468503</td>\n",
              "    </tr>\n",
              "    <tr>\n",
              "      <th>Almost_lost_cust</th>\n",
              "      <td>91</td>\n",
              "      <td>91</td>\n",
              "      <td>1.160418</td>\n",
              "    </tr>\n",
              "    <tr>\n",
              "      <th>Splurgers</th>\n",
              "      <td>29</td>\n",
              "      <td>29</td>\n",
              "      <td>0.369804</td>\n",
              "    </tr>\n",
              "    <tr>\n",
              "      <th>Lost_cust</th>\n",
              "      <td>20</td>\n",
              "      <td>20</td>\n",
              "      <td>0.255037</td>\n",
              "    </tr>\n",
              "    <tr>\n",
              "      <th>New_comers</th>\n",
              "      <td>5</td>\n",
              "      <td>5</td>\n",
              "      <td>0.063759</td>\n",
              "    </tr>\n",
              "    <tr>\n",
              "      <th>Loyal_Joes</th>\n",
              "      <td>1</td>\n",
              "      <td>1</td>\n",
              "      <td>0.012752</td>\n",
              "    </tr>\n",
              "  </tbody>\n",
              "</table>\n",
              "</div>"
            ],
            "text/plain": [
              "                  cust_type  count_val    percent\n",
              "Other                  2326       2326  29.660801\n",
              "Big_Spenders            419        419   5.343025\n",
              "Best_Cust               416        416   5.304769\n",
              "Deadbeats               342        342   4.361132\n",
              "Loyal_Cust              272        272   3.468503\n",
              "Almost_lost_cust         91         91   1.160418\n",
              "Splurgers                29         29   0.369804\n",
              "Lost_cust                20         20   0.255037\n",
              "New_comers                5          5   0.063759\n",
              "Loyal_Joes                1          1   0.012752"
            ]
          },
          "metadata": {
            "tags": []
          },
          "execution_count": 65
        }
      ]
    },
    {
      "cell_type": "code",
      "metadata": {
        "colab_type": "code",
        "id": "MEXJvPxuptC8",
        "outputId": "ce47f9f3-1fd7-43f7-fbc0-41c157690b5e",
        "scrolled": false,
        "colab": {
          "base_uri": "https://localhost:8080/",
          "height": 1000
        }
      },
      "source": [
        "#treemap\n",
        "\n",
        "sns.set_context('paper')\n",
        "plt.figure(figsize=(25,18))\n",
        "squarify.plot(sizes = regions[\"cust_type\"].values, label = (regions.index+'-'+regions.count_val.astype(str)+'\\n'+regions.percent.round(2).astype(str))+'%',\n",
        "              color = sns.color_palette(\"gist_stern\", 10), alpha = 0.9)\n",
        "plt.xticks([])\n",
        "plt.yticks([])\n",
        "plt.title(\"Treemap of Main Category\", fontsize = 18)"
      ],
      "execution_count": 66,
      "outputs": [
        {
          "output_type": "execute_result",
          "data": {
            "text/plain": [
              "Text(0.5, 1.0, 'Treemap of Main Category')"
            ]
          },
          "metadata": {
            "tags": []
          },
          "execution_count": 66
        },
        {
          "output_type": "display_data",
          "data": {
            "image/png": "[encoded data removed]",
            "text/plain": [
              "<Figure size 1800x1296 with 1 Axes>"
            ]
          },
          "metadata": {
            "tags": []
          }
        }
      ]
    },
    {
      "cell_type": "markdown",
      "metadata": {
        "id": "RkmaaMZ4LIXk",
        "colab_type": "text"
      },
      "source": [
        "- The Above treemap shows how specific customer segement is contributing to us.\n",
        "- By analysing the map, we can make targeted offers, discounts, etc on specific group of customers. That will help us further analyze how they are adding value to our business."
      ]
    },
    {
      "cell_type": "code",
      "metadata": {
        "colab_type": "code",
        "id": "_cPHZ0EuVP7P",
        "outputId": "658464c1-d378-4bf5-b139-6cb171f265fc",
        "colab": {
          "base_uri": "https://localhost:8080/",
          "height": 81
        }
      },
      "source": [
        "#dropping examples with 0 monetary\n",
        "\n",
        "rfm_table_copy[rfm_table_copy['Monetary'] == 0]"
      ],
      "execution_count": 67,
      "outputs": [
        {
          "output_type": "execute_result",
          "data": {
            "text/html": [
              "<div>\n",
              "<style scoped>\n",
              "    .dataframe tbody tr th:only-of-type {\n",
              "        vertical-align: middle;\n",
              "    }\n",
              "\n",
              "    .dataframe tbody tr th {\n",
              "        vertical-align: top;\n",
              "    }\n",
              "\n",
              "    .dataframe thead th {\n",
              "        text-align: right;\n",
              "    }\n",
              "</style>\n",
              "<table border=\"1\" class=\"dataframe\">\n",
              "  <thead>\n",
              "    <tr style=\"text-align: right;\">\n",
              "      <th></th>\n",
              "      <th>CustomerID</th>\n",
              "      <th>Recency</th>\n",
              "      <th>Frequency</th>\n",
              "      <th>Monetary</th>\n",
              "      <th>r_quartile</th>\n",
              "      <th>f_quartile</th>\n",
              "      <th>m_quartile</th>\n",
              "      <th>RFMscore</th>\n",
              "      <th>cust_type</th>\n",
              "    </tr>\n",
              "  </thead>\n",
              "  <tbody>\n",
              "    <tr>\n",
              "      <th>314</th>\n",
              "      <td>13256.0</td>\n",
              "      <td>14</td>\n",
              "      <td>1</td>\n",
              "      <td>0.0</td>\n",
              "      <td>1</td>\n",
              "      <td>4</td>\n",
              "      <td>4</td>\n",
              "      <td>144</td>\n",
              "      <td>Other</td>\n",
              "    </tr>\n",
              "  </tbody>\n",
              "</table>\n",
              "</div>"
            ],
            "text/plain": [
              "     CustomerID  Recency  Frequency  ...  m_quartile  RFMscore  cust_type\n",
              "314     13256.0       14          1  ...           4       144      Other\n",
              "\n",
              "[1 rows x 9 columns]"
            ]
          },
          "metadata": {
            "tags": []
          },
          "execution_count": 67
        }
      ]
    },
    {
      "cell_type": "code",
      "metadata": {
        "colab_type": "code",
        "id": "ZHiR-ndeV0GP",
        "colab": {}
      },
      "source": [
        "rfm_table_copy.drop(rfm_table_copy.index[314], inplace=True)"
      ],
      "execution_count": 0,
      "outputs": []
    },
    {
      "cell_type": "markdown",
      "metadata": {
        "id": "M__99cfqLIXq",
        "colab_type": "text"
      },
      "source": [
        "### Log Transformation & Normalization"
      ]
    },
    {
      "cell_type": "code",
      "metadata": {
        "colab_type": "code",
        "id": "y5ZTAT85ZSfz",
        "outputId": "2d941b71-1441-4e88-c115-3bd95e3e25fe",
        "scrolled": true,
        "colab": {
          "base_uri": "https://localhost:8080/",
          "height": 395
        }
      },
      "source": [
        "#Log transformation\n",
        "\n",
        "rfm_table_log = np.log1p(rfm_table_copy[['Recency', 'Frequency', 'Monetary']])\n",
        "rfm_table_log = pd.concat([rfm_table_copy['CustomerID'], rfm_table_log], axis=1)\n",
        "rfm_table_log.set_index(['CustomerID'], inplace=True)\n",
        "rfm_table_log.head(10)"
      ],
      "execution_count": 69,
      "outputs": [
        {
          "output_type": "execute_result",
          "data": {
            "text/html": [
              "<div>\n",
              "<style scoped>\n",
              "    .dataframe tbody tr th:only-of-type {\n",
              "        vertical-align: middle;\n",
              "    }\n",
              "\n",
              "    .dataframe tbody tr th {\n",
              "        vertical-align: top;\n",
              "    }\n",
              "\n",
              "    .dataframe thead th {\n",
              "        text-align: right;\n",
              "    }\n",
              "</style>\n",
              "<table border=\"1\" class=\"dataframe\">\n",
              "  <thead>\n",
              "    <tr style=\"text-align: right;\">\n",
              "      <th></th>\n",
              "      <th>Recency</th>\n",
              "      <th>Frequency</th>\n",
              "      <th>Monetary</th>\n",
              "    </tr>\n",
              "    <tr>\n",
              "      <th>CustomerID</th>\n",
              "      <th></th>\n",
              "      <th></th>\n",
              "      <th></th>\n",
              "    </tr>\n",
              "  </thead>\n",
              "  <tbody>\n",
              "    <tr>\n",
              "      <th>12346.0</th>\n",
              "      <td>5.789960</td>\n",
              "      <td>0.693147</td>\n",
              "      <td>11.253955</td>\n",
              "    </tr>\n",
              "    <tr>\n",
              "      <th>12747.0</th>\n",
              "      <td>1.098612</td>\n",
              "      <td>4.644391</td>\n",
              "      <td>8.342128</td>\n",
              "    </tr>\n",
              "    <tr>\n",
              "      <th>12748.0</th>\n",
              "      <td>0.693147</td>\n",
              "      <td>8.433159</td>\n",
              "      <td>10.425868</td>\n",
              "    </tr>\n",
              "    <tr>\n",
              "      <th>12749.0</th>\n",
              "      <td>1.609438</td>\n",
              "      <td>5.298317</td>\n",
              "      <td>8.316760</td>\n",
              "    </tr>\n",
              "    <tr>\n",
              "      <th>12820.0</th>\n",
              "      <td>1.386294</td>\n",
              "      <td>4.094345</td>\n",
              "      <td>6.849427</td>\n",
              "    </tr>\n",
              "    <tr>\n",
              "      <th>12821.0</th>\n",
              "      <td>5.370638</td>\n",
              "      <td>1.945910</td>\n",
              "      <td>4.540312</td>\n",
              "    </tr>\n",
              "    <tr>\n",
              "      <th>12822.0</th>\n",
              "      <td>4.276666</td>\n",
              "      <td>3.850148</td>\n",
              "      <td>6.856336</td>\n",
              "    </tr>\n",
              "    <tr>\n",
              "      <th>12823.0</th>\n",
              "      <td>4.330733</td>\n",
              "      <td>1.791759</td>\n",
              "      <td>7.473353</td>\n",
              "    </tr>\n",
              "    <tr>\n",
              "      <th>12824.0</th>\n",
              "      <td>4.110874</td>\n",
              "      <td>3.258097</td>\n",
              "      <td>5.986753</td>\n",
              "    </tr>\n",
              "    <tr>\n",
              "      <th>12826.0</th>\n",
              "      <td>1.386294</td>\n",
              "      <td>4.521789</td>\n",
              "      <td>7.296901</td>\n",
              "    </tr>\n",
              "  </tbody>\n",
              "</table>\n",
              "</div>"
            ],
            "text/plain": [
              "             Recency  Frequency   Monetary\n",
              "CustomerID                                \n",
              "12346.0     5.789960   0.693147  11.253955\n",
              "12747.0     1.098612   4.644391   8.342128\n",
              "12748.0     0.693147   8.433159  10.425868\n",
              "12749.0     1.609438   5.298317   8.316760\n",
              "12820.0     1.386294   4.094345   6.849427\n",
              "12821.0     5.370638   1.945910   4.540312\n",
              "12822.0     4.276666   3.850148   6.856336\n",
              "12823.0     4.330733   1.791759   7.473353\n",
              "12824.0     4.110874   3.258097   5.986753\n",
              "12826.0     1.386294   4.521789   7.296901"
            ]
          },
          "metadata": {
            "tags": []
          },
          "execution_count": 69
        }
      ]
    },
    {
      "cell_type": "markdown",
      "metadata": {
        "id": "YilIJqggLIXw",
        "colab_type": "text"
      },
      "source": [
        "- We need to do Log Transformation since values of each feature has outliers. And Outliers can affect our clustering process."
      ]
    },
    {
      "cell_type": "code",
      "metadata": {
        "colab_type": "code",
        "id": "-Qfia5hwcMPM",
        "outputId": "4612be8b-991d-4bd2-9ad5-71bca7145488",
        "colab": {
          "base_uri": "https://localhost:8080/",
          "height": 395
        }
      },
      "source": [
        "from sklearn.preprocessing import StandardScaler\n",
        "\n",
        "scaler = StandardScaler()\n",
        "\n",
        "cols = rfm_table_log.columns\n",
        "\n",
        "norm_df = scaler.fit_transform(rfm_table_log[['Recency', 'Frequency', 'Monetary']])\n",
        "norm_df = pd.DataFrame(data=norm_df, columns=cols, index=rfm_table_log.index)\n",
        "norm_df.head(10)"
      ],
      "execution_count": 70,
      "outputs": [
        {
          "output_type": "execute_result",
          "data": {
            "text/html": [
              "<div>\n",
              "<style scoped>\n",
              "    .dataframe tbody tr th:only-of-type {\n",
              "        vertical-align: middle;\n",
              "    }\n",
              "\n",
              "    .dataframe tbody tr th {\n",
              "        vertical-align: top;\n",
              "    }\n",
              "\n",
              "    .dataframe thead th {\n",
              "        text-align: right;\n",
              "    }\n",
              "</style>\n",
              "<table border=\"1\" class=\"dataframe\">\n",
              "  <thead>\n",
              "    <tr style=\"text-align: right;\">\n",
              "      <th></th>\n",
              "      <th>Recency</th>\n",
              "      <th>Frequency</th>\n",
              "      <th>Monetary</th>\n",
              "    </tr>\n",
              "    <tr>\n",
              "      <th>CustomerID</th>\n",
              "      <th></th>\n",
              "      <th></th>\n",
              "      <th></th>\n",
              "    </tr>\n",
              "  </thead>\n",
              "  <tbody>\n",
              "    <tr>\n",
              "      <th>12346.0</th>\n",
              "      <td>1.464133</td>\n",
              "      <td>-2.403455</td>\n",
              "      <td>3.785914</td>\n",
              "    </tr>\n",
              "    <tr>\n",
              "      <th>12747.0</th>\n",
              "      <td>-2.036648</td>\n",
              "      <td>0.732518</td>\n",
              "      <td>1.444280</td>\n",
              "    </tr>\n",
              "    <tr>\n",
              "      <th>12748.0</th>\n",
              "      <td>-2.339215</td>\n",
              "      <td>3.739539</td>\n",
              "      <td>3.119983</td>\n",
              "    </tr>\n",
              "    <tr>\n",
              "      <th>12749.0</th>\n",
              "      <td>-1.655459</td>\n",
              "      <td>1.251518</td>\n",
              "      <td>1.423880</td>\n",
              "    </tr>\n",
              "    <tr>\n",
              "      <th>12820.0</th>\n",
              "      <td>-1.821974</td>\n",
              "      <td>0.295964</td>\n",
              "      <td>0.243880</td>\n",
              "    </tr>\n",
              "    <tr>\n",
              "      <th>12821.0</th>\n",
              "      <td>1.151226</td>\n",
              "      <td>-1.409178</td>\n",
              "      <td>-1.613065</td>\n",
              "    </tr>\n",
              "    <tr>\n",
              "      <th>12822.0</th>\n",
              "      <td>0.334881</td>\n",
              "      <td>0.102153</td>\n",
              "      <td>0.249436</td>\n",
              "    </tr>\n",
              "    <tr>\n",
              "      <th>12823.0</th>\n",
              "      <td>0.375228</td>\n",
              "      <td>-1.531523</td>\n",
              "      <td>0.745629</td>\n",
              "    </tr>\n",
              "    <tr>\n",
              "      <th>12824.0</th>\n",
              "      <td>0.211164</td>\n",
              "      <td>-0.367739</td>\n",
              "      <td>-0.449865</td>\n",
              "    </tr>\n",
              "    <tr>\n",
              "      <th>12826.0</th>\n",
              "      <td>-1.821974</td>\n",
              "      <td>0.635212</td>\n",
              "      <td>0.603730</td>\n",
              "    </tr>\n",
              "  </tbody>\n",
              "</table>\n",
              "</div>"
            ],
            "text/plain": [
              "             Recency  Frequency  Monetary\n",
              "CustomerID                               \n",
              "12346.0     1.464133  -2.403455  3.785914\n",
              "12747.0    -2.036648   0.732518  1.444280\n",
              "12748.0    -2.339215   3.739539  3.119983\n",
              "12749.0    -1.655459   1.251518  1.423880\n",
              "12820.0    -1.821974   0.295964  0.243880\n",
              "12821.0     1.151226  -1.409178 -1.613065\n",
              "12822.0     0.334881   0.102153  0.249436\n",
              "12823.0     0.375228  -1.531523  0.745629\n",
              "12824.0     0.211164  -0.367739 -0.449865\n",
              "12826.0    -1.821974   0.635212  0.603730"
            ]
          },
          "metadata": {
            "tags": []
          },
          "execution_count": 70
        }
      ]
    },
    {
      "cell_type": "markdown",
      "metadata": {
        "id": "F4fPKVfXLIX1",
        "colab_type": "text"
      },
      "source": [
        "- We need to Scale our data and we will use Sklearn's StandardScaler for that."
      ]
    },
    {
      "cell_type": "code",
      "metadata": {
        "colab_type": "code",
        "id": "P2yjRH4-dW-H",
        "outputId": "cfbe3eae-1a89-4428-915b-4cde44161f94",
        "colab": {
          "base_uri": "https://localhost:8080/",
          "height": 929
        }
      },
      "source": [
        "sns.set_context('paper')\n",
        "plt.subplots_adjust(hspace=1, wspace=1)\n",
        "plt.figure(figsize=(20,15))\n",
        "\n",
        "plt.subplot(3,1,1)\n",
        "sns.distplot(norm_df['Recency'], color='r')\n",
        "plt.title('Spread of Log. Recency')\n",
        "\n",
        "plt.subplot(3,1,2)\n",
        "sns.distplot(norm_df['Frequency'], color='g')\n",
        "plt.title('Spread of Log. Frequency')\n",
        "\n",
        "plt.subplot(3,1,3)\n",
        "sns.distplot(norm_df['Monetary'], color='b')\n",
        "plt.title('Spread of Log. Monetary')"
      ],
      "execution_count": 71,
      "outputs": [
        {
          "output_type": "execute_result",
          "data": {
            "text/plain": [
              "Text(0.5, 1.0, 'Spread of Log. Monetary')"
            ]
          },
          "metadata": {
            "tags": []
          },
          "execution_count": 71
        },
        {
          "output_type": "display_data",
          "data": {
            "text/plain": [
              "<Figure size 432x288 with 0 Axes>"
            ]
          },
          "metadata": {
            "tags": []
          }
        },
        {
          "output_type": "display_data",
          "data": {
            "image/png": "[encoded data removed]",
            "text/plain": [
              "<Figure size 1440x1080 with 3 Axes>"
            ]
          },
          "metadata": {
            "tags": []
          }
        }
      ]
    },
    {
      "cell_type": "markdown",
      "metadata": {
        "id": "eKsA52mfLIX7",
        "colab_type": "text"
      },
      "source": [
        "- Above is a viz. of distribution of R, F & M after Log Transformation & Scaling."
      ]
    },
    {
      "cell_type": "markdown",
      "metadata": {
        "colab_type": "text",
        "id": "dhAQt0W5fXOn"
      },
      "source": [
        "### K-Means Clustering"
      ]
    },
    {
      "cell_type": "markdown",
      "metadata": {
        "id": "6t_Zqv4jLIX9",
        "colab_type": "text"
      },
      "source": [
        "- We'll Initialize K-means with K clusters.\n",
        "- By Intializing K-means we'll get **Sum of Squared Error (SSE).**\n",
        "- SSE is the sum of the squared differences between each observation and its group's mean."
      ]
    },
    {
      "cell_type": "code",
      "metadata": {
        "colab_type": "code",
        "id": "pk9HuRjnePJ_",
        "colab": {}
      },
      "source": [
        "#K means implementation\n",
        "\n",
        "from sklearn.cluster import KMeans, MiniBatchKMeans\n",
        "\n",
        "k = np.arange(1,15)\n",
        "sse = []\n",
        "\n",
        "for i in k:\n",
        "    model = MiniBatchKMeans(i)\n",
        "    model.fit(norm_df)\n",
        "    sse.append(model.inertia_/100)"
      ],
      "execution_count": 0,
      "outputs": []
    },
    {
      "cell_type": "code",
      "metadata": {
        "colab_type": "code",
        "id": "tV20Vh37f8KI",
        "outputId": "eb92ed45-d7c1-4cf4-804a-a35971ae5145",
        "scrolled": false,
        "colab": {
          "base_uri": "https://localhost:8080/",
          "height": 489
        }
      },
      "source": [
        "cluster = pd.DataFrame({\"Number of Clusters\": k , \"Error\":sse})\n",
        "cluster"
      ],
      "execution_count": 73,
      "outputs": [
        {
          "output_type": "execute_result",
          "data": {
            "text/html": [
              "<div>\n",
              "<style scoped>\n",
              "    .dataframe tbody tr th:only-of-type {\n",
              "        vertical-align: middle;\n",
              "    }\n",
              "\n",
              "    .dataframe tbody tr th {\n",
              "        vertical-align: top;\n",
              "    }\n",
              "\n",
              "    .dataframe thead th {\n",
              "        text-align: right;\n",
              "    }\n",
              "</style>\n",
              "<table border=\"1\" class=\"dataframe\">\n",
              "  <thead>\n",
              "    <tr style=\"text-align: right;\">\n",
              "      <th></th>\n",
              "      <th>Number of Clusters</th>\n",
              "      <th>Error</th>\n",
              "    </tr>\n",
              "  </thead>\n",
              "  <tbody>\n",
              "    <tr>\n",
              "      <th>0</th>\n",
              "      <td>1</td>\n",
              "      <td>117.800016</td>\n",
              "    </tr>\n",
              "    <tr>\n",
              "      <th>1</th>\n",
              "      <td>2</td>\n",
              "      <td>61.430197</td>\n",
              "    </tr>\n",
              "    <tr>\n",
              "      <th>2</th>\n",
              "      <td>3</td>\n",
              "      <td>48.517140</td>\n",
              "    </tr>\n",
              "    <tr>\n",
              "      <th>3</th>\n",
              "      <td>4</td>\n",
              "      <td>39.349763</td>\n",
              "    </tr>\n",
              "    <tr>\n",
              "      <th>4</th>\n",
              "      <td>5</td>\n",
              "      <td>33.700644</td>\n",
              "    </tr>\n",
              "    <tr>\n",
              "      <th>5</th>\n",
              "      <td>6</td>\n",
              "      <td>31.020620</td>\n",
              "    </tr>\n",
              "    <tr>\n",
              "      <th>6</th>\n",
              "      <td>7</td>\n",
              "      <td>28.778009</td>\n",
              "    </tr>\n",
              "    <tr>\n",
              "      <th>7</th>\n",
              "      <td>8</td>\n",
              "      <td>25.678658</td>\n",
              "    </tr>\n",
              "    <tr>\n",
              "      <th>8</th>\n",
              "      <td>9</td>\n",
              "      <td>24.284725</td>\n",
              "    </tr>\n",
              "    <tr>\n",
              "      <th>9</th>\n",
              "      <td>10</td>\n",
              "      <td>22.348594</td>\n",
              "    </tr>\n",
              "    <tr>\n",
              "      <th>10</th>\n",
              "      <td>11</td>\n",
              "      <td>22.708629</td>\n",
              "    </tr>\n",
              "    <tr>\n",
              "      <th>11</th>\n",
              "      <td>12</td>\n",
              "      <td>20.622142</td>\n",
              "    </tr>\n",
              "    <tr>\n",
              "      <th>12</th>\n",
              "      <td>13</td>\n",
              "      <td>19.858790</td>\n",
              "    </tr>\n",
              "    <tr>\n",
              "      <th>13</th>\n",
              "      <td>14</td>\n",
              "      <td>18.956698</td>\n",
              "    </tr>\n",
              "  </tbody>\n",
              "</table>\n",
              "</div>"
            ],
            "text/plain": [
              "    Number of Clusters       Error\n",
              "0                    1  117.800016\n",
              "1                    2   61.430197\n",
              "2                    3   48.517140\n",
              "3                    4   39.349763\n",
              "4                    5   33.700644\n",
              "5                    6   31.020620\n",
              "6                    7   28.778009\n",
              "7                    8   25.678658\n",
              "8                    9   24.284725\n",
              "9                   10   22.348594\n",
              "10                  11   22.708629\n",
              "11                  12   20.622142\n",
              "12                  13   19.858790\n",
              "13                  14   18.956698"
            ]
          },
          "metadata": {
            "tags": []
          },
          "execution_count": 73
        }
      ]
    },
    {
      "cell_type": "code",
      "metadata": {
        "colab_type": "code",
        "id": "4VHlRj9vgIOE",
        "outputId": "4ea5973f-8d48-4b66-f74d-386269f2dd04",
        "colab": {
          "base_uri": "https://localhost:8080/",
          "height": 475
        }
      },
      "source": [
        "#elbow plot\n",
        "\n",
        "plt.figure(figsize=(10,7))\n",
        "plt.plot(cluster['Number of Clusters'], cluster['Error'], marker=\"o\", linestyle=\"--\" , c=\"black\")\n",
        "plt.title(\"Elbow plot\")\n",
        "plt.xlabel('No. of Clusters')\n",
        "plt.ylabel('Sum of Squared Error')\n",
        "plt.annotate(s='Possible Clusters', xy=(4, 40), arrowprops=dict(facecolor='r', shrink=0.1))"
      ],
      "execution_count": 77,
      "outputs": [
        {
          "output_type": "execute_result",
          "data": {
            "text/plain": [
              "Text(4, 40, 'Possible Clusters')"
            ]
          },
          "metadata": {
            "tags": []
          },
          "execution_count": 77
        },
        {
          "output_type": "display_data",
          "data": {
            "image/png": "[encoded data removed]",
            "text/plain": [
              "<Figure size 720x504 with 1 Axes>"
            ]
          },
          "metadata": {
            "tags": []
          }
        }
      ]
    },
    {
      "cell_type": "markdown",
      "metadata": {
        "id": "j2uYJdPcLIYF",
        "colab_type": "text"
      },
      "source": [
        "- The above **Elbow Plot** elaborates optimum number of clusters.\n",
        "- We can consider **4** as we see after 4 the plot is quite flat with mimimal change / variation.\n",
        "- Now we'll initialize K-means on 4 clusters and iterate for 200 times."
      ]
    },
    {
      "cell_type": "code",
      "metadata": {
        "colab_type": "code",
        "id": "g4lWom_LgYPt",
        "colab": {}
      },
      "source": [
        "#execution of k-means\n",
        "\n",
        "kmeans = KMeans(n_clusters=4, init='k-means++', max_iter=200, n_init=10)\n",
        "kmeans.fit(norm_df)\n",
        "labels = kmeans.labels_"
      ],
      "execution_count": 0,
      "outputs": []
    },
    {
      "cell_type": "code",
      "metadata": {
        "colab_type": "code",
        "id": "dn4aJ95UjVEB",
        "outputId": "1dd3088a-e5d7-4c01-84d5-fc102a96245a",
        "colab": {
          "base_uri": "https://localhost:8080/",
          "height": 238
        }
      },
      "source": [
        "#assigning labels to rfm table\n",
        "#groupby cluster and aggregate it with average\n",
        "\n",
        "rfm_k4 = rfm_table_copy.assign(Cluster=labels)\n",
        "\n",
        "grouped_rfm = rfm_k4.groupby('Cluster').agg({'Recency':'mean',\n",
        "                                             'Frequency': 'mean',\n",
        "                                             'Monetary': ['mean','count']}).round(2)\n",
        "\n",
        "grouped_rfm"
      ],
      "execution_count": 79,
      "outputs": [
        {
          "output_type": "execute_result",
          "data": {
            "text/html": [
              "<div>\n",
              "<style scoped>\n",
              "    .dataframe tbody tr th:only-of-type {\n",
              "        vertical-align: middle;\n",
              "    }\n",
              "\n",
              "    .dataframe tbody tr th {\n",
              "        vertical-align: top;\n",
              "    }\n",
              "\n",
              "    .dataframe thead tr th {\n",
              "        text-align: left;\n",
              "    }\n",
              "\n",
              "    .dataframe thead tr:last-of-type th {\n",
              "        text-align: right;\n",
              "    }\n",
              "</style>\n",
              "<table border=\"1\" class=\"dataframe\">\n",
              "  <thead>\n",
              "    <tr>\n",
              "      <th></th>\n",
              "      <th>Recency</th>\n",
              "      <th>Frequency</th>\n",
              "      <th colspan=\"2\" halign=\"left\">Monetary</th>\n",
              "    </tr>\n",
              "    <tr>\n",
              "      <th></th>\n",
              "      <th>mean</th>\n",
              "      <th>mean</th>\n",
              "      <th>mean</th>\n",
              "      <th>count</th>\n",
              "    </tr>\n",
              "    <tr>\n",
              "      <th>Cluster</th>\n",
              "      <th></th>\n",
              "      <th></th>\n",
              "      <th></th>\n",
              "      <th></th>\n",
              "    </tr>\n",
              "  </thead>\n",
              "  <tbody>\n",
              "    <tr>\n",
              "      <th>0</th>\n",
              "      <td>20.34</td>\n",
              "      <td>38.04</td>\n",
              "      <td>583.21</td>\n",
              "      <td>790</td>\n",
              "    </tr>\n",
              "    <tr>\n",
              "      <th>1</th>\n",
              "      <td>184.46</td>\n",
              "      <td>14.93</td>\n",
              "      <td>290.90</td>\n",
              "      <td>1260</td>\n",
              "    </tr>\n",
              "    <tr>\n",
              "      <th>2</th>\n",
              "      <td>93.98</td>\n",
              "      <td>82.18</td>\n",
              "      <td>1481.42</td>\n",
              "      <td>1102</td>\n",
              "    </tr>\n",
              "    <tr>\n",
              "      <th>3</th>\n",
              "      <td>12.27</td>\n",
              "      <td>279.83</td>\n",
              "      <td>6313.27</td>\n",
              "      <td>768</td>\n",
              "    </tr>\n",
              "  </tbody>\n",
              "</table>\n",
              "</div>"
            ],
            "text/plain": [
              "        Recency Frequency Monetary      \n",
              "           mean      mean     mean count\n",
              "Cluster                                 \n",
              "0         20.34     38.04   583.21   790\n",
              "1        184.46     14.93   290.90  1260\n",
              "2         93.98     82.18  1481.42  1102\n",
              "3         12.27    279.83  6313.27   768"
            ]
          },
          "metadata": {
            "tags": []
          },
          "execution_count": 79
        }
      ]
    },
    {
      "cell_type": "markdown",
      "metadata": {
        "id": "K65ger2zLIYL",
        "colab_type": "text"
      },
      "source": [
        "- Above we had assigned Cluster labels to our RFM table.\n",
        "- Then we group by cluster and aggregate to find Average of R, F & M for each cluster along with its Size."
      ]
    },
    {
      "cell_type": "code",
      "metadata": {
        "colab_type": "code",
        "id": "E5wChbiRzhqk",
        "outputId": "f4854d31-6bcc-4b7e-9454-4ec3ef32a981",
        "scrolled": false,
        "colab": {
          "base_uri": "https://localhost:8080/",
          "height": 432
        }
      },
      "source": [
        "#examining Clusters and their impact on R, F & M\n",
        "\n",
        "sns.set_context('notebook')\n",
        "plt.subplots_adjust(hspace=0.5, wspace=0.7)\n",
        "plt.figure(figsize=(23,5))\n",
        "\n",
        "plt.subplot(1,3,1)\n",
        "sns.boxenplot(rfm_k4['Cluster'], rfm_k4['Monetary'])\n",
        "plt.xticks(ticks=[0,1,2,3], labels=['Cluster 0', 'Cluster 1', 'Cluster 2', 'Cluster 3'], rotation=90)\n",
        "plt.title('Impact of Specific Cluster on Monetary')\n",
        "\n",
        "plt.subplot(1,3,2)\n",
        "sns.boxenplot(rfm_k4['Cluster'], rfm_k4['Recency'])\n",
        "plt.xticks(ticks=[0,1,2,3], labels=['Cluster 0', 'Cluster 1', 'Cluster 2', 'Cluster 3'], rotation=90)\n",
        "plt.title('Impact of Specific Cluster on Recency')\n",
        "\n",
        "plt.subplot(1,3,3)\n",
        "sns.boxenplot(rfm_k4['Cluster'], rfm_k4['Frequency'])\n",
        "plt.xticks(ticks=[0,1,2,3], labels=['Cluster 0', 'Cluster 1', 'Cluster 2', 'Cluster 3'], rotation=90)\n",
        "plt.title('Impact of Specific Cluster on Frequency')"
      ],
      "execution_count": 80,
      "outputs": [
        {
          "output_type": "execute_result",
          "data": {
            "text/plain": [
              "Text(0.5, 1.0, 'Impact of Specific Cluster on Frequency')"
            ]
          },
          "metadata": {
            "tags": []
          },
          "execution_count": 80
        },
        {
          "output_type": "display_data",
          "data": {
            "text/plain": [
              "<Figure size 432x288 with 0 Axes>"
            ]
          },
          "metadata": {
            "tags": []
          }
        },
        {
          "output_type": "display_data",
          "data": {
            "image/png": "[encoded data removed]",
            "text/plain": [
              "<Figure size 1656x360 with 3 Axes>"
            ]
          },
          "metadata": {
            "tags": []
          }
        }
      ]
    },
    {
      "cell_type": "markdown",
      "metadata": {
        "id": "jJjHTT_4LIYO",
        "colab_type": "text"
      },
      "source": [
        "#### Observations :\n",
        "\n",
        "\n",
        " - **Cluster 3** is highly affecting our Monetary value and Frequency and also they are recent, we can say the Cluster 3 contains our **Big Spenders** to which we can target expensive products.\n",
        "\n",
        "\n",
        " - **Cluster 2** is decent, its affect on Monetary value is good. We can provide them reasonable discounts and offers to keep them involved in purchase activity. Most of the customers have bad Recency so we can try to get them again before we tend to lose them. Although, They are our **Best Customers.**\n",
        "\n",
        "\n",
        " - **Cluster 1** is interesting. Their recency varies from best to bad. They don't spend much. They are combination of **Loyal Joes, Almost Lost Customers & Lost Customers**. We can try to give them good discounts / attractive offers pushing them to spend more.\n",
        "\n",
        "\n",
        " - **Cluster 0** contains our **Loyal Customers** their recency is very nice, they don't spend much so we'll have to provide them good discounts & attractive offers."
      ]
    },
    {
      "cell_type": "code",
      "metadata": {
        "colab_type": "code",
        "id": "Bym-e93I2N7j",
        "outputId": "164640b0-dad9-4884-f5ff-d67693cd0764",
        "colab": {
          "base_uri": "https://localhost:8080/",
          "height": 238
        }
      },
      "source": [
        "rfm_table_log = rfm_table_log.assign(Cluster=labels)\n",
        "rfm_table_log.head()"
      ],
      "execution_count": 81,
      "outputs": [
        {
          "output_type": "execute_result",
          "data": {
            "text/html": [
              "<div>\n",
              "<style scoped>\n",
              "    .dataframe tbody tr th:only-of-type {\n",
              "        vertical-align: middle;\n",
              "    }\n",
              "\n",
              "    .dataframe tbody tr th {\n",
              "        vertical-align: top;\n",
              "    }\n",
              "\n",
              "    .dataframe thead th {\n",
              "        text-align: right;\n",
              "    }\n",
              "</style>\n",
              "<table border=\"1\" class=\"dataframe\">\n",
              "  <thead>\n",
              "    <tr style=\"text-align: right;\">\n",
              "      <th></th>\n",
              "      <th>Recency</th>\n",
              "      <th>Frequency</th>\n",
              "      <th>Monetary</th>\n",
              "      <th>Cluster</th>\n",
              "    </tr>\n",
              "    <tr>\n",
              "      <th>CustomerID</th>\n",
              "      <th></th>\n",
              "      <th></th>\n",
              "      <th></th>\n",
              "      <th></th>\n",
              "    </tr>\n",
              "  </thead>\n",
              "  <tbody>\n",
              "    <tr>\n",
              "      <th>12346.0</th>\n",
              "      <td>5.789960</td>\n",
              "      <td>0.693147</td>\n",
              "      <td>11.253955</td>\n",
              "      <td>2</td>\n",
              "    </tr>\n",
              "    <tr>\n",
              "      <th>12747.0</th>\n",
              "      <td>1.098612</td>\n",
              "      <td>4.644391</td>\n",
              "      <td>8.342128</td>\n",
              "      <td>3</td>\n",
              "    </tr>\n",
              "    <tr>\n",
              "      <th>12748.0</th>\n",
              "      <td>0.693147</td>\n",
              "      <td>8.433159</td>\n",
              "      <td>10.425868</td>\n",
              "      <td>3</td>\n",
              "    </tr>\n",
              "    <tr>\n",
              "      <th>12749.0</th>\n",
              "      <td>1.609438</td>\n",
              "      <td>5.298317</td>\n",
              "      <td>8.316760</td>\n",
              "      <td>3</td>\n",
              "    </tr>\n",
              "    <tr>\n",
              "      <th>12820.0</th>\n",
              "      <td>1.386294</td>\n",
              "      <td>4.094345</td>\n",
              "      <td>6.849427</td>\n",
              "      <td>0</td>\n",
              "    </tr>\n",
              "  </tbody>\n",
              "</table>\n",
              "</div>"
            ],
            "text/plain": [
              "             Recency  Frequency   Monetary  Cluster\n",
              "CustomerID                                         \n",
              "12346.0     5.789960   0.693147  11.253955        2\n",
              "12747.0     1.098612   4.644391   8.342128        3\n",
              "12748.0     0.693147   8.433159  10.425868        3\n",
              "12749.0     1.609438   5.298317   8.316760        3\n",
              "12820.0     1.386294   4.094345   6.849427        0"
            ]
          },
          "metadata": {
            "tags": []
          },
          "execution_count": 81
        }
      ]
    },
    {
      "cell_type": "markdown",
      "metadata": {
        "id": "4tRsc385LIYS",
        "colab_type": "text"
      },
      "source": [
        "- Above table helps us find out which **Customer** belongs to which **Cluster.**"
      ]
    },
    {
      "cell_type": "code",
      "metadata": {
        "colab_type": "code",
        "id": "l_SvO6OwSrrZ",
        "outputId": "2dffac59-9e61-41cf-a6db-41ffecd89364",
        "scrolled": false,
        "colab": {
          "base_uri": "https://localhost:8080/",
          "height": 466
        }
      },
      "source": [
        "#3D plot\n",
        "\n",
        "import matplotlib as mpl\n",
        "import matplotlib.pyplot as plt\n",
        "from mpl_toolkits.mplot3d import Axes3D\n",
        "\n",
        "fig = plt.figure(figsize=(8,8))\n",
        "ax = fig.add_subplot(111, projection='3d')\n",
        "for c, m, zl, zh in [('#CD9575', 'o', 0, 0), ('#EA7E5D', '^', 0, 0), ('#FC2847', '+', 0, 0)]:\n",
        "    xs = rfm_table_log[rfm_table_log['Cluster'] == 3]['Recency']\n",
        "    ys = rfm_table_log[rfm_table_log['Cluster'] == 3]['Frequency']\n",
        "    zs = rfm_table_log[rfm_table_log['Cluster'] == 3]['Monetary']\n",
        "    #ax.scatter(xs, ys, zs, marker=m, depthshade=True, c=c)\n",
        "    ax.scatter(xs, ys, zs, marker=m, c=c)\n",
        "    \n",
        "ax.set_xlabel('Recency')\n",
        "ax.set_ylabel('Frequency')\n",
        "ax.set_zlabel('Monetary')\n",
        "ax.view_init(65, 35)\n",
        "plt.show()"
      ],
      "execution_count": 82,
      "outputs": [
        {
          "output_type": "display_data",
          "data": {
            "image/png": "[encoded data removed]",
            "text/plain": [
              "<Figure size 576x576 with 1 Axes>"
            ]
          },
          "metadata": {
            "tags": []
          }
        }
      ]
    },
    {
      "cell_type": "markdown",
      "metadata": {
        "id": "EnXGL82cLIYV",
        "colab_type": "text"
      },
      "source": [
        "### Conclusion :\n",
        "\n",
        "- **By this we conclude our RFM Analysis. We cannot neglect any cluster because they are our source of revenue. We must focus on providing them best offers / discounts to Cluster 0, Cluster 1 and Cluster 2. While Cluster 3 has big spenders to which we can target marketing our Top of the Line (new) product(s). While to Cluster 0, Cluster 1 and Cluster 2 we must provides \"Buy x units, get y units free\" offers to let them spend more.**"
      ]
    }
  ]
}